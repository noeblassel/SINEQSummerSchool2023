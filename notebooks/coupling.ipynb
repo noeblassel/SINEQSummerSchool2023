{
 "cells": [
  {
   "cell_type": "markdown",
   "id": "3af9d243",
   "metadata": {},
   "source": [
    "# Non-equilibrium Systems, Transport Coefficients, and Coupling Methods"
   ]
  },
  {
   "cell_type": "code",
   "execution_count": null,
   "id": "ebf9c95c",
   "metadata": {},
   "outputs": [],
   "source": [
    "using LinearAlgebra\n",
    "using Random\n",
    "using Plots\n",
    "using LaTeXStrings\n",
    "using Statistics\n",
    "using StatsBase"
   ]
  },
  {
   "cell_type": "markdown",
   "id": "5d54378e",
   "metadata": {},
   "source": [
    "# I) Non-equilibrium Dynamics and Transport Coefficients\n",
    "\n",
    "As a model for non-equilibrium, we consider overdamped Langevin dynamics with potential $U:\\mathbb{R}^d \\to \\mathbb{R}$ and inverse temperature $\\beta > 0$ perturbed by a non-gradient vector field $F:\\mathbb{R}^d \\to \\mathbb{R}^d$ with the pertubation modulated by a parameter $\\eta \\in \\mathbb{R}$\n",
    "$$dX_t^\\eta = \\left(-\\nabla U\\left(X_t^\\eta\\right) + \\eta F\\left(X_t^\\eta\\right)\\right)dt + \\sqrt{\\frac{2}{\\beta}}dW_t. \\tag{Non-eq Dynamics}$$\n",
    "Under appropriate assumptions on $U$ and $F$ (sufficient contractivity of $-\\nabla U$, boundness of $F$, ...), the above dynamics admits unique invariant measure $\\nu_\\eta$. When $\\eta = 0$, $\\nu_0$ is the Gibbs measure $$\\nu_0(dx) = Z_\\beta^{-1} \\exp\\left(-\\beta U(x)\\right)dx,$$ and the dynamics of $X^0$ is reversible with respect $\\nu_0$. If $\\eta \\neq 0$, then $\\nu_\\eta$ is no longer of Gibbs form and the dynamics of $X^\\eta$ is non-reversible. \n",
    "\n",
    "For an observable $R$, we define the transport coefficient $\\alpha_R$ to be linear response at $\\eta = 0$ of the expectation of the observable\n",
    "$$ \\alpha_R = \\lim_{\\eta \\to 0} \\frac{\\nu_\\eta(R) - \\nu_0(R)}{\\eta},$$\n",
    "i.e. $\\nu_\\eta(R) \\approx \\nu_0(R) + \\alpha_R \\eta$ for $|\\eta| \\ll 1$.\n",
    "\n",
    "Suppose that $\\nu_0(R) = 0$. We can approximate $\\alpha_R$ with a finite difference approximation $\\alpha_{R, \\eta} = \\eta^{-1}\\nu_{\\eta}(R) = \\alpha_R + \\mathrm{O}(\\eta)$. In practice, we do not have access to $\\nu_\\eta$ and instead estimate $\\nu_\\eta(R)$ via a time average. Denote by $\\widehat{\\Phi}_{\\eta, t}$ the estimator for $\\alpha_R$, given by \n",
    "$$\\widehat{\\Phi}_{\\eta, t} = \\frac{1}{\\eta t}\\int_0^t R\\left(X_s^\\eta\\right) ds \\xrightarrow[\\text{a.s.}]{t \\to \\infty} \\alpha_{\\eta, R} = \\alpha_R + \\mathrm{O}(\\eta). \\tag{NEMD Estimator}$$\n",
    "The discrete-time version of this estimator is time average of the Euler-Maruyama discretization in lieu of the continuous-time solution. The statistical error of this estimator is dictated by the central limit theorem\n",
    "$$\\sqrt{t}\\left(\\widehat{\\Phi}_{\\eta, t} - \\alpha_{\\eta, R}\\right) \\xrightarrow[\\text{in law}]{t\\to \\infty} \\mathcal{N}\\left(0, \\frac{\\sigma_{R,\\eta}^2}{\\eta}\\right),$$\n",
    "and therefore $\\widehat{\\Phi}_{\\eta, t} = \\alpha_R + \\mathrm{O}(\\eta) + \\mathrm{O}_P\\left(\\frac{1}{\\eta \\sqrt{t}}\\right)$."
   ]
  },
  {
   "cell_type": "markdown",
   "id": "abea1812",
   "metadata": {},
   "source": [
    "Our two running examples through this notebook will be a harmonic potential in two dimensions and the entropic switch potential perturbed by a rotational force $F$\n",
    "$$ F(x) = Jx = \\left[ \\begin{matrix} 0 & 1\\\\ -1 & 0\\end{matrix} \\right]x$$\n",
    "Observe that this force is non-gradient since $\\mathrm{curl}(F) \\equiv -2$."
   ]
  },
  {
   "cell_type": "code",
   "execution_count": null,
   "id": "06a1fce4",
   "metadata": {},
   "outputs": [],
   "source": [
    "J = [0. 1\n",
    "    -1 0]\n",
    "\n",
    "#Defining the rotational force\n",
    "rotation(x) = J*x\n",
    ";"
   ]
  },
  {
   "cell_type": "markdown",
   "id": "0028f177",
   "metadata": {},
   "source": [
    "#### 1) Harmonic potential (Ornstein-Uhlenbeck process)\n",
    "As a potential, we take $ U(x) = \\frac{x^T A x}{2}$ with\n",
    "$$ A = \\left[ \\begin{matrix} 2 & -1\\\\ -1 & 2\\end{matrix} \\right].$$\n",
    "Then the perturbed overdamped Langevin dynamics is given by a linear SDE\n",
    "$$ dX_t = \\left(-A + \\eta J\\right)X_t dt + \\sqrt{\\frac{2}{\\beta}}dW_t.$$\n",
    "In this case we can solve everything explicitly. The invariant measure $\\nu_\\eta$ is a centered Gaussian with covariance matrix, $\\Sigma_{\\eta, \\beta}$, satisfying\n",
    "$$ \\left(A -\\eta J\\right)\\Sigma_{\\eta, \\beta} + \\Sigma_{\\eta, \\beta}\\left(A -\\eta J\\right)^T = \\frac{2}{\\beta}\\mathrm{Id}, $$\n",
    "specifically\n",
    "$$\\Sigma_{\\eta, \\beta} = \\frac{1}{\\left(3+\\eta^2\\right)\\beta} \\left[\\begin{matrix} 2 + (\\eta^2 +\\eta)/2 & 1\\\\ 1 & 2 +(\\eta^2 - \\eta)/2\\end{matrix}\\right].$$\n",
    "For $|\\eta| < \\sqrt{3}$, we can write $\\Sigma_{\\eta, \\beta}$ as a power expansion in $\\eta$,\n",
    "$$\\begin{aligned}\n",
    "\\Sigma_{\\eta, \\beta} &= \\frac{1}{3\\beta}\\left[\\begin{matrix} 2 & 1\\\\ 1 & 2\\end{matrix}\\right] + \\frac{\\eta}{6\\beta}\\left[\\begin{matrix} 1 & 0\\\\ 0 & -1 \\end{matrix}\\right] + \\frac{1}{6\\beta}\\sum_{k\\geq 1} \\left(-3\\right)^{-k}\\left(\\eta^{2k}\\left[\\begin{matrix} 1 & 2\\\\ 2 & 1\\end{matrix}\\right] + \\eta^{2k+1}\\left[\\begin{matrix}1 & 0\\\\ 0 & -1 \\end{matrix}\\right]\\right).\n",
    "\\end{aligned}$$\n",
    "This expansion indicates that the difference of variances of the first and second components exhibts a linear response. If we choose as our observable $R(x) = x_1^2 - x_2^2$, then we get that \n",
    "$$\\nu_\\eta\\left(R\\right) = \\frac{\\eta}{3\\beta} + \\frac{1}{3\\beta}\\sum_{k\\geq 1}\\left(-3\\right)^{-k}\\eta^{2k+1}, \\qquad |\\eta | < \\sqrt{3}.$$\n",
    "Consequently, the transport coefficient is given by\n",
    "$$ \\alpha_R = \\lim_{\\eta \\to 0} \\frac{\\nu_\\eta(R)}{\\eta} = \\frac{1}{3\\beta}$$ "
   ]
  },
  {
   "cell_type": "code",
   "execution_count": null,
   "id": "5ea77de7",
   "metadata": {},
   "outputs": [],
   "source": [
    "\"\"\"\n",
    "Defining the harmonic potential and its gradient\n",
    "\"\"\"\n",
    "A = [2 -1. \n",
    "    -1 2]\n",
    "\n",
    "Harmonic(x) = x'*A*x/2\n",
    "Harmonic(x,y) = [x, y]' *A *[x,y]/2\n",
    "∇Harmonic(x) = A*x\n",
    "\n",
    "\n",
    "\"\"\"\n",
    "Difference of variances response function\n",
    "\"\"\"\n",
    "function R(x,y)\n",
    "    return x^2 - y^2\n",
    "end\n",
    "\n",
    "R(x::Vector{<:Real}) = R(x...)\n",
    "\n",
    "\n",
    "\"\"\"\n",
    "Plotting harmonic potential\n",
    "\"\"\"\n",
    "xlimits = -2., 2.\n",
    "ylimits = -2., 2.\n",
    "xrange = range(xlimits..., 200)\n",
    "yrange = range(ylimits..., 200)\n",
    "contourf(xrange, yrange, Harmonic, levels=50, cmap=:hsv)"
   ]
  },
  {
   "cell_type": "markdown",
   "id": "840adc97",
   "metadata": {},
   "source": [
    "Below we plot a sample trajectory of the dynamics."
   ]
  },
  {
   "cell_type": "code",
   "execution_count": null,
   "id": "b1ac934d",
   "metadata": {},
   "outputs": [],
   "source": [
    "\"\"\"\n",
    "    em_integration_step!(x::Vector{<:Real}, G::Vector{<:Real}, ∇U, F, η, β, dt; RNG =Random.default_rng())\n",
    "\n",
    "One step Euler-Maruyama discretization of the SDE (Non-eq Dynamics). Configuration x is update in place and then\n",
    "returned by the function. Noise vector G is also updated in place. The random number generator can be specified\n",
    "via optional keyword argument RNG.\n",
    "\n",
    "\"\"\"\n",
    "function em_integration_step!(x::Vector{<:Real}, G::Vector{<:Real}, ∇U, F, η, β, dt; RNG =Random.default_rng())\n",
    "    x .+= (.-∇U(x) .+ η*F(x)).* dt + sqrt(2*dt/β)*randn!(RNG, G)\n",
    "    return x\n",
    "end\n",
    "\n",
    "\n",
    "#Parameters of the sample trajectory feel free to modify and observe what changes\n",
    "x_0 = [1., 0]\n",
    "G = [0., 0]\n",
    "η = 0.1\n",
    "β = 2.\n",
    "dt = 0.01\n",
    "T = 10\n",
    "N = floor(Int64, T/dt)\n",
    "RNG = Xoshiro(24092023) #fixing RNG\n",
    "\n",
    "\n",
    "\n",
    "x_traj = zeros(2, N + 1)\n",
    "x_traj[:, 1] .= x_0\n",
    "x_n = copy(x_0)\n",
    "for i in 1:N\n",
    "    x_traj[:, i+1] .= em_integration_step!(x_n, G, ∇Harmonic, rotation, η, β, dt; RNG = RNG)\n",
    "end\n",
    "\n",
    "contourf(xrange, yrange, Harmonic, levels=50, cmap=:hsv)\n",
    "plot!(x_traj[1,:], x_traj[2, :], color=:black, label = \"\")"
   ]
  },
  {
   "cell_type": "markdown",
   "id": "6323d13f",
   "metadata": {},
   "source": [
    "In the next cell, we plot a trajectory of the discretized estimator $\\widehat{\\Phi}_{\\eta, t}$.\n",
    "Vary the total runtime $T$ and strength of the perturbation $\\eta$ and comment on the convergence of $\\widehat{\\Phi}_{\\eta, t}$"
   ]
  },
  {
   "cell_type": "code",
   "execution_count": null,
   "id": "7f5bde1a",
   "metadata": {},
   "outputs": [],
   "source": [
    "x_0 = [1., 0]\n",
    "G = [0., 0]\n",
    "η = 0.1\n",
    "β = 2.\n",
    "dt = 0.01\n",
    "T = 5000\n",
    "N = floor(Int64, T/dt)\n",
    "RNG = Xoshiro(24092023) #fixing RNG\n",
    "\n",
    "α_R = 1/(3β) #analytic value of the transport coefficients\n",
    "\n",
    "x_traj = zeros(2, N + 1)\n",
    "x_traj[:, 1] .= x_0\n",
    "x_n = copy(x_0)\n",
    "for i in 1:N\n",
    "    x_traj[:, i+1] .= em_integration_step!(x_n, G, ∇Harmonic, rotation, η, β, dt; RNG = RNG)\n",
    "end\n",
    "\n",
    "phi_hat = cumsum(R.(x_traj[1,:], x_traj[2,:])) ./ (1:(N+1)) ./η\n",
    "plot(0:10dt:T, phi_hat[1:10:end], label = L\"\\hat{\\Phi}_{\\eta, t}\")\n",
    "plot!([0, T], [α_R, α_R], label = L\"\\alpha_R\", legendfontsize = 15)\n",
    "plot!(ylims = (0, 0.5))"
   ]
  },
  {
   "cell_type": "markdown",
   "id": "342d700c",
   "metadata": {},
   "source": [
    "#### 2) Entropic switch potential \n",
    "\n",
    "As our second example we consider the entropic switch potential introduced yesterday\n",
    "$$\n",
    "\\tag{Entropic switch}\n",
    "V(x,y)=3{\\rm e}^{-x^2}({\\rm e}^{-(y-1/3)^2}-{\\rm e}^{-(y-5/3)^2})-5{\\rm e}^{-y^2}({\\rm e}^{-(x-1)^2}+{\\rm e}^{-(x+1)^2})+0.2x^4+0.2(y-1/3)^4.\n",
    "$$\n",
    "\n",
    "As an observable, we consider the first component, $R(x) = x_1$. By the symmetry of the two deep wells, $\\nu_0(R) = 0$. "
   ]
  },
  {
   "cell_type": "code",
   "execution_count": null,
   "id": "2aec7e1d",
   "metadata": {},
   "outputs": [],
   "source": [
    "\"\"\"\n",
    "    entropic_switch(x, y)\n",
    "\n",
    "Potential energy function.\n",
    "\"\"\"\n",
    "function entropic_switch(x, y)\n",
    "    tmp1 = x^2\n",
    "    tmp2 = (y - 1 / 3)^2\n",
    "    return 3 * exp(-tmp1) * (exp(-tmp2) - exp(-(y - 5 / 3)^2)) - 5 * exp(-y^2) * (exp(-(x - 1)^2) + exp(-(x + 1)^2)) + 0.2 * tmp1^2 + 0.2 * tmp2^2\n",
    "end\n",
    "\n",
    "function entropic_switch(q::Vector{<:Real})\n",
    "    return entropic_switch(q...)\n",
    "end\n",
    "\n",
    "\"\"\"\n",
    "    ∇entropic_switch(x, y)\n",
    "\n",
    "Gradient of the potential energy function.\n",
    "\"\"\"\n",
    "function ∇entropic_switch(x, y)\n",
    "\n",
    "    tmp1 = exp(4*x)\n",
    "    tmp2 = exp(-x^2 - 2*x - y^2 - 1)\n",
    "    tmp3 = exp(-x^2)\n",
    "    tmp4 = exp(-(y-1/3)^2)\n",
    "    tmp5 = exp(-(y-5/3)^2)\n",
    "\n",
    "    dx = 0.8*x^3 + 10*(tmp1*(x - 1) + x + 1)*tmp2 - 6*tmp3*x*(tmp4 - tmp5)\n",
    "\n",
    "    dy = 10*(tmp1 + 1)*y*tmp2 + 3*tmp3*(2*tmp5*(y - 5/3) - 2*tmp4*(y - 1/3)) + 0.8*(y - 1/3)^3\n",
    "\n",
    "    return [dx, dy]\n",
    "end\n",
    "\n",
    "function ∇entropic_switch(q::Vector{<:Real})\n",
    "    return ∇entropic_switch(q...)\n",
    "end\n",
    "\n",
    "xlims = -2.5, 2.5\n",
    "ylims = -1.75, 2.5\n",
    "xrange = range(xlims..., 200)\n",
    "yrange = range(ylims..., 200)\n",
    "qₗ = (-1.048, -0.04210, Plots.text(L\"$q_{\\rm L}$\", pointsize=25))\n",
    "qᵣ = (1.048, -0.04210, Plots.text(L\"$q_{\\rm R}$\", pointsize=25))\n",
    "qₛ = (0., 1.5371, Plots.text(L\"$q_{\\rm S}$\", pointsize=25))\n",
    "pl_V = contourf(xrange, yrange, entropic_switch, levels=50, cmap=:hsv)\n",
    "annotate!(qₗ)\n",
    "annotate!(qᵣ)\n",
    "annotate!(qₛ)"
   ]
  },
  {
   "cell_type": "markdown",
   "id": "14d5a523",
   "metadata": {},
   "source": [
    "In the next cell, we plot a trajectory of the discretized estimator $\\widehat{\\Phi}_{\\eta, t}$.\n",
    "Vary the total runtime $T$ and strength of the perturbation $\\eta$ and comment on the convergence of $\\widehat{\\Phi}_{\\eta, t}$. For this potential, it is also interesting to vary the inverse temperature $\\beta$."
   ]
  },
  {
   "cell_type": "code",
   "execution_count": null,
   "id": "0fbc3012",
   "metadata": {
    "scrolled": false
   },
   "outputs": [],
   "source": [
    "x_0 = [1., 0]\n",
    "G = [0., 0]\n",
    "η = 0.01\n",
    "β = 1.\n",
    "dt = 0.01\n",
    "T = 50000\n",
    "burn = 1000\n",
    "N = floor(Int64, T/dt)\n",
    "dt = T/N\n",
    "N_burn = floor(Int64, burn/dt)\n",
    "RNG = Xoshiro(24092023) #fixing RNG\n",
    "\n",
    "\n",
    "x_traj = zeros(2, N)\n",
    "x_n = copy(x_0)\n",
    "\n",
    "for i in 1:N_burn\n",
    "    em_integration_step!(x_n, G, ∇entropic_switch, rotation, η, β, dt; RNG = RNG)\n",
    "end\n",
    "for i in 1:N\n",
    "    x_traj[:, i] .= em_integration_step!(x_n, G, ∇entropic_switch, rotation, η, β, dt; RNG = RNG)\n",
    "end\n",
    "\n",
    "Φ = cumsum(x_traj[1,:]) ./ (1:N) /η\n",
    "\n",
    "plot(dt:50dt:T, Φ[1:50:end], label = L\"\\hat{\\Phi}_{\\eta, t}\")\n",
    "plot!(legendfontsize = 15)"
   ]
  },
  {
   "cell_type": "code",
   "execution_count": null,
   "id": "a3c52e8d",
   "metadata": {},
   "outputs": [],
   "source": [
    "plot!(ylims = (-3., 3.))"
   ]
  },
  {
   "cell_type": "markdown",
   "id": "ae5a8c74",
   "metadata": {},
   "source": [
    "## II) Couplings\n",
    "\n",
    "In this section, we consider couplings of diffusions and their discretization via their driving noise. These couplings are Markovian in the sense that the coupled process is a Markov process.\n",
    "\n",
    "\n",
    "### a) Starting from different inital conditions\n",
    "Assuming deterministic initial conditions, a pair of coupled solutions to an overdamped Langevin equation would satisfy \n",
    "$$\\tag{Same Drift}\n",
    "\\begin{aligned}\n",
    "    dX_t &= -\\nabla U\\left(X_t\\right)dt + \\sqrt{\\frac{2}{\\beta}}dW_t, \\qquad X_0 = x,\\\\\n",
    "    dY_t &= -\\nabla U\\left(Y_t\\right)dt + \\sqrt{\\frac{2}{\\beta}}d\\widetilde{W}_t, \\qquad Y_0 = y,\n",
    "\\end{aligned}\n",
    "$$\n",
    "with $x, y \\in \\mathbb{R}^d$ $x\\neq y$ and $(W, \\widetilde{W})$ cleverly coupled pair of Brownian motions.\n",
    "\n",
    "We can use this coupling to estimate the contraction rate of the diffusion semi-group, $\\left(P_t\\right)_{t\\geq 0}$, corresponding to the SDE in Wasserstein or total variation distance. Each of these distance can be defined as an infimum over couplings, so we have either\n",
    "$$\\mathcal{W}_p\\left(\\delta_xP_t, \\delta_yP_t\\right) \\leq \\mathbb{E}_{(x,y)}\\left[\\left|X_t - Y_t\\right|^p\\right]^{1/p} $$\n",
    "or \n",
    "$$ d_{\\mathrm{TV}}\\left(\\delta_xP_t, \\delta_yP_t\\right) \\leq \\mathbb{P}_{(x,y)}\\left(X_t\\neq Y_t\\right)$$\n",
    "\n",
    "\n",
    "### b) Different drifts\n",
    "We can alternatively couple solutions to two SDEs with different drifts. To improve upon the estimator from the previous section we can couple the perturbed and equilibrium processes \n",
    "$$\\tag{Different Drifts}\n",
    "\\begin{aligned}\n",
    "    dX_t^\\eta &= \\left(-\\nabla U\\left(X_t^\\eta\\right) + \\eta F\\left(X_t^\\eta\\right)\\right)dt + \\sqrt{\\frac{2}{\\beta}}dW_t, \\qquad &X_0 = x\\\\\n",
    "    dY_t^0 &= -\\nabla U\\left(Y_t\\right)dt + \\sqrt{\\frac{2}{\\beta}}d\\widetilde{W}_t, &Y_0 = y,\n",
    "\\end{aligned}\n",
    "$$\n",
    "with $x, y \\in \\mathbb{R}^d$ and consider the following coupling based estimator\n",
    "$$\\widehat{\\Psi}_{\\eta, t} = \\frac{1}{\\eta t}\\int_0^t\\left[R\\left(X_s^\\eta\\right) - R\\left(Y_s^0\\right)\\right]ds.$$\n",
    "If $(W, \\widetilde{W})$ are coupled in such a way that $X^\\eta$ and $Y$ stay close for a long time, then we can hope that the estimator $\\widehat{\\Psi}_{\\eta, t}$ has lower variance than that of $\\widehat{\\Phi}_{\\eta, t}$."
   ]
  },
  {
   "cell_type": "code",
   "execution_count": null,
   "id": "abc67a99",
   "metadata": {},
   "outputs": [],
   "source": [
    "\"\"\"\n",
    "   coupled_traj(drift_x, drift_y, coupled_integrator, β, x_0, y_0, T, burn, dt; RNG = Random.default_rng())\n",
    "\n",
    "A wrapper function for simulating trajectories of two discretized diffusions coupled via their noises. The \n",
    "argument `coupled_integrator` should be a function that implements the one step iteration of the coupled dynamics.\n",
    "\n",
    "\"\"\"\n",
    "function coupled_traj(drift_x, drift_y, coupled_integrator, β, x_0, y_0, T, burn, dt; RNG = Random.default_rng()) \n",
    "    N = floor(Int64, T/dt)\n",
    "    dt = T/N\n",
    "    K = floor(Int64, burn/dt)\n",
    "    \n",
    "    x_traj = zeros(length(x_0), N+1)\n",
    "    y_traj = zeros(length(x_0), N+1)\n",
    "\n",
    "    x = copy(x_0)\n",
    "    y = copy(y_0)\n",
    "    \n",
    "    for _ in 1:K\n",
    "        #\"burning-in\" the dynamics. Set `burn` to zero if you do not \n",
    "        #want a burn-in\n",
    "        coupled_integrator(x, y, drift_x, drift_y, β, dt, RNG)\n",
    "    end\n",
    "    \n",
    "    x_traj[:, 1] .= x\n",
    "    y_traj[:, 1] .= y\n",
    "    for i in 2:(N+1)\n",
    "        coupled_integrator(x, y, drift_x, drift_y, β, dt, RNG)\n",
    "        x_traj[:, i] .= x\n",
    "        y_traj[:, i] .= y\n",
    "    end\n",
    "    \n",
    "    return x_traj, y_traj\n",
    "end"
   ]
  },
  {
   "cell_type": "markdown",
   "id": "d292982d",
   "metadata": {},
   "source": [
    "### 1) Synchronous coupling"
   ]
  },
  {
   "cell_type": "markdown",
   "id": "adff7121",
   "metadata": {},
   "source": [
    "A simple way to couple the dynamics is to <i>synchronously</i> couple them, i.e. to drive them with the same Brownian motion, $W = \\widetilde{W}$. \n",
    "\n",
    "<b>Instructive optional exercise: </b> Consider the system (Same Drift) given above with an $m$-strongly convex potential $U$ $m > 0$, i.e. $\\nabla^2 U(x) \\geq m \\mathrm{Id}$ in the sense of positive definite matricies for all $x \\in \\mathbb{R}^d$. Compute the differential of $\\left|X_t - Y_t\\right|^2$ when $X$ and $Y$ are synchronously coupled. What can we say about the behavior of $\\left|X_t - Y_t\\right|^2$ with time?\n",
    "\n",
    "<i>Hint 1:</i> If you do not know Itô Calculus, don't worry! The in this case the Itô corrections cancel. If you do know Itô Calculus, why does this happen?\n",
    "    \n",
    "<i>Hint 2:</i> Where do you use that fact two equations are synchronously coupled? Where do you use that the fact $U$ is $m$-strongly convex?\n",
    "\n",
    "<u>Extension</u>: What happens when we consider the system (Different Drifts) and compute the differential of $\\left|X_t^\\eta - Y_t^0\\right|^2$?\n",
    "\n",
    "<br>\n",
    "\n",
    "<b>Task:</b> Implement one integration step of synchronously coupled dynamics in the next cell."
   ]
  },
  {
   "cell_type": "code",
   "execution_count": null,
   "id": "e4c1192d",
   "metadata": {},
   "outputs": [],
   "source": [
    "\"\"\"\n",
    "    synchronous_integration_step!(x,y, drift_x, drift_y, β, dt, RNG)\n",
    "One step of the synchronously coupled dynamics\n",
    "\"\"\"\n",
    "function synchronous_integration_step!(x,y, drift_x, drift_y, β, dt, RNG)\n",
    "    #implement here\n",
    "    return nothing\n",
    "end"
   ]
  },
  {
   "cell_type": "markdown",
   "id": "d833a9c0",
   "metadata": {},
   "source": [
    "#### a) Strongly Convex Harmonic Potential\n",
    "\n",
    "Let us test your implementation of synchronous coupling on the overdamped Langevin dynamics with a harmonic potential introduced in the first section.\n",
    "\n",
    "We start by looking at the convergence towards one another of two coupled solutions to the equilibrium dynamics with different initial conditions. \n",
    "\n",
    "After that, we will look at the convergence of the transport coefficient estimator based on sticky coupling."
   ]
  },
  {
   "cell_type": "code",
   "execution_count": null,
   "id": "5d46c079",
   "metadata": {},
   "outputs": [],
   "source": [
    "drift(x) = -∇Harmonic(x)\n",
    "\n",
    "B = [sqrt(2) 0\n",
    "    sqrt(2)/2 sqrt(6)/2]\n",
    "\n",
    "RNG = Xoshiro(24092023) #fixing RNG\n",
    "\n",
    "###################################\n",
    "#two samples from the invariant measure of the continuous-time process\n",
    "x_0 = sqrt(1/(3β)) * B * randn(RNG, 2)\n",
    "y_0 = sqrt(1/(3β)) * B * randn(RNG, 2)\n",
    "####################################\n",
    "\n",
    "\n",
    "# ###################################\n",
    "# #Difference in the first eigendirection\n",
    "# x_0 = [-1., 1]\n",
    "# y_0 = zeros(2)\n",
    "# ####################################\n",
    "\n",
    "# ###################################\n",
    "# #Difference in the second eigendirection\n",
    "# x_0 = [1., 1]\n",
    "# y_0 = zeros(2)\n",
    "# ####################################\n",
    "\n",
    "T = 10.\n",
    "dt = 0.01\n",
    "β = 1.\n",
    "burn = 0.\n",
    "x_traj, y_traj = coupled_traj(drift, drift, synchronous_integration_step!, β, x_0, y_0, T, burn, dt; RNG = RNG)\n",
    ";"
   ]
  },
  {
   "cell_type": "markdown",
   "id": "6dc55049",
   "metadata": {},
   "source": [
    "Below we plot the decay of the difference between the two trajectories in the two eigen-directions of $A$. The decay of the difference in each eigen-direction should behave like $\\mathrm{e}^{-\\lambda t}$ with $\\lambda$ the corresponding eigenvalue."
   ]
  },
  {
   "cell_type": "code",
   "execution_count": null,
   "id": "5d0f62bf",
   "metadata": {
    "scrolled": false
   },
   "outputs": [],
   "source": [
    "#Change of coordinates \n",
    "u(x, y) = (x + y)/sqrt(2)\n",
    "v(x, y) = (x - y)/sqrt(2)\n",
    "u(x::Vector{<:Real}) = u(x...)\n",
    "v(x::Vector{<:Real}) = v(x...)\n",
    "\n",
    "plot(yscale = :log10)\n",
    "scatter!(0.:10dt:T, [abs(u(x_traj[:, i] - y_traj[:, i])) for i in axes(x_traj, 2)][1:10:end],\n",
    "    ms = 2, msw = 0.1, label = \"Difference in 1st Eigendirection\")\n",
    "plot!(0.:dt:T, abs(u(x_0 - y_0))*exp.(.-(0.:dt:T)), label = L\"\\exp{(-t)}\", lw = 1.5)\n",
    "scatter!(0.:10dt:T, [abs(v(x_traj[:, i] - y_traj[:, i])) for i in axes(x_traj, 2)][1:10:end], \n",
    "    ms = 2, msw = 0.1, label = \"Difference in 2nd Eigendirection\")\n",
    "plot!(0.:dt:T, abs(v(x_0 - y_0))*exp.(-3 .*(0.:dt:T)), label = L\"\\exp{(-3t)}\", lw = 1.5)\n",
    "plot!(legend = :bottomleft, legendfontsize = 12)"
   ]
  },
  {
   "cell_type": "markdown",
   "id": "3a3c1fbd",
   "metadata": {},
   "source": [
    "We next look at the behavior of the synchronous coupling based estimator of the transport coefficient.\n",
    "\n",
    "<b> Task:</b> In the next cell vary the intensity of the perturbation $\\eta$, the inverse temperature $\\beta$, and runtime $T$ and comment on the convergence of $\\widehat{\\Psi}_{\\eta,t}^{\\mathrm{sync}}$. You may also look at the plots of the trajectories in the cell after and the distribution of distances between the trajectories in the cell after that. "
   ]
  },
  {
   "cell_type": "code",
   "execution_count": null,
   "id": "6d1e8d7b",
   "metadata": {},
   "outputs": [],
   "source": [
    "x_0 = [1., 0]\n",
    "η = 0.1\n",
    "β = 1.\n",
    "dt = 0.01\n",
    "T = 5000\n",
    "burn = 1000\n",
    "N = floor(Int64, T/dt)\n",
    "dt = T/N\n",
    "N_burn = floor(Int64, burn/dt)\n",
    "RNG = Xoshiro(24092023) #fixing RNG\n",
    "\n",
    "drift_x(x) = -∇Harmonic(x) + η*rotation(x) #perturbed drift\n",
    "drift_y(x) = -∇Harmonic(x) #equilibrium drift\n",
    "\n",
    "x_traj, y_traj = coupled_traj(drift_x, drift_y, synchronous_integration_step!, β, x_0, y_0, T, burn, dt; RNG = RNG)\n",
    "Ψ_sync = cumsum(R.(x_traj[1, :], x_traj[2, :]) - R.(y_traj[1, :], y_traj[2, :])) ./ (1:N+1) ./η\n",
    "α_R = 1/(3β)\n",
    "\n",
    "plot(0:10dt:T, Ψ_sync[1:10:end], label = L\"\\widehat{\\Psi}_{\\eta, t}\")\n",
    "plot!([0, T], [α_R, α_R], label = L\"\\alpha_R\", legendfontsize = 15)"
   ]
  },
  {
   "cell_type": "code",
   "execution_count": null,
   "id": "6ae9bc33",
   "metadata": {},
   "outputs": [],
   "source": [
    "#Plotting the trajectories the equilibrium and nonequilibrium processes \n",
    "#if you can't differentiate the two trajectories increase η and rerun the previous cell\n",
    "contourf(xrange, yrange, Harmonic, levels=50, cmap=:hsv)\n",
    "plot!(x_traj[1, 1:500], x_traj[2, 1:500], color = :black, lw = 1.5, label = L\"X^\\eta\")\n",
    "plot!(y_traj[1, 1:500], y_traj[2, 1:500], color = :lightgray, lw = 1.5, label = L\"Y^0\")\n",
    "plot!(legendfontsize = 15)"
   ]
  },
  {
   "cell_type": "code",
   "execution_count": null,
   "id": "02051e99",
   "metadata": {},
   "outputs": [],
   "source": [
    "#Plotting the empirical distribution of distance between the equilibrium and nonequilibrium processes\n",
    "plot()\n",
    "plot!(title = latexstring(\"Distribution of \\$\\\\left|X_t - Y_t\\\\right|\\$\"))\n",
    "plot!([norm([x_traj[:, i] - y_traj[:, i]]) for i in axes(x_traj, 2)], normed = true, label = \"\", \n",
    "    seriestype = :stephist)\n",
    "plot!(xlabel = \"Distance between trajectories\")"
   ]
  },
  {
   "cell_type": "markdown",
   "id": "2026aa7a",
   "metadata": {},
   "source": [
    "#### b) Non-convex Entropic Switch Potential\n",
    "\n",
    "We repeat what we did above for the entropic switch potential.\n",
    "\n",
    "<i> Question for those who did the exercise:</i> Does the result of the exercise still hold in this case?"
   ]
  },
  {
   "cell_type": "code",
   "execution_count": null,
   "id": "bee97600",
   "metadata": {},
   "outputs": [],
   "source": [
    "drift(x) = -∇entropic_switch(x)\n",
    "\n",
    "q_l = [-1.048, -0.04210]\n",
    "q_r = [1.048, -0.04210]\n",
    "x_0 = [1., 1]\n",
    "y_0 = [0., 0.]\n",
    "β = 1.\n",
    "T = 7.\n",
    "burn = 0.\n",
    "dt = 0.01\n",
    "RNG = Xoshiro(24092023) #fixing RNG\n",
    "x_traj, y_traj = coupled_traj(drift, drift, synchronous_integration_step!, β, q_l, q_r, T, burn, dt; RNG = RNG)\n",
    "\n",
    "plot()\n",
    "plot!(0:dt:T, [norm([x_traj[:, i] - y_traj[:, i]]) for i in axes(x_traj, 2)], label = L\"\\left|X_t - Y_t\\right|\")\n",
    "plot!(yscale = :log, legendfontsize = 15)"
   ]
  },
  {
   "cell_type": "markdown",
   "id": "1fda960f",
   "metadata": {},
   "source": [
    "As before, we look at the behavior of the synchronous coupling based estimator of the transport coefficient.\n",
    "\n",
    "<b> Task:</b> In the next cell vary the intensity of the perturbation $\\eta$, the inverse temperature $\\beta$, and runtime $T$ and comment on the convergence of $\\widehat{\\Psi}_{\\eta,t}^{\\mathrm{sync}}$. You may also look at the plots of the trajectories in the cell after and the distribution of distances between the trajectories in the cell after that. "
   ]
  },
  {
   "cell_type": "code",
   "execution_count": null,
   "id": "ceaa8c2b",
   "metadata": {},
   "outputs": [],
   "source": [
    "x_0 = [0., 0]\n",
    "η = 0.1\n",
    "β = 1.\n",
    "dt = 0.01\n",
    "T = 50000\n",
    "burn = 10000\n",
    "N = floor(Int64, T/dt)\n",
    "dt = T/N\n",
    "N_burn = floor(Int64, burn/dt)\n",
    "RNG = Xoshiro(24092023) #fixing RNG\n",
    "\n",
    "drift_x(x) = -∇entropic_switch(x) + η*rotation(x) #perturbed drift\n",
    "drift_y(x) = -∇entropic_switch(x) #equilibrium drift\n",
    "\n",
    "x_traj, y_traj = coupled_traj(drift_x, drift_y, synchronous_integration_step!, β, x_0, y_0, T, burn, dt; RNG = RNG)\n",
    "Ψ_sync = cumsum(x_traj[1, :] - y_traj[1, :]) ./ (1:N+1) ./η\n",
    "\n",
    "plot(0:10dt:T, Ψ_sync[1:10:end], label = L\"\\widehat{\\Psi}_{\\eta, t}\")\n",
    "plot!(legendfontsize = 15, ylims = (0, 1))"
   ]
  },
  {
   "cell_type": "code",
   "execution_count": null,
   "id": "bd7ef654",
   "metadata": {},
   "outputs": [],
   "source": [
    "contourf(xrange, yrange, entropic_switch, levels=50, cmap=:hsv)\n",
    "plot!(x_traj[1, 1:500], x_traj[2, 1:500], color = :black, lw = 1.5, label = L\"X\")\n",
    "plot!(y_traj[1, 1:500], y_traj[2, 1:500], color = :lightgray, lw = 1.5, label = L\"Y\")\n",
    "plot!(legendfontsize = 15)"
   ]
  },
  {
   "cell_type": "code",
   "execution_count": null,
   "id": "c5a4e4e6",
   "metadata": {},
   "outputs": [],
   "source": [
    "#Plotting the empirical distribution of distance between the equilibrium and nonequilibrium processes\n",
    "plot()\n",
    "plot!(title = latexstring(\"Distribution of \\$\\\\left|X_t - Y_t\\\\right|\\$\"))\n",
    "plot!([norm([x_traj[:, i] - y_traj[:, i]]) for i in axes(x_traj, 2)], normed = true, label = \"\", \n",
    "    seriestype = :stephist)\n",
    "plot!(xlabel = \"Distance between trajectories\")"
   ]
  },
  {
   "cell_type": "markdown",
   "id": "afa7646f",
   "metadata": {},
   "source": [
    "### 2) Sticky coupling\n",
    "\n",
    "It can be shown that synchronous coupling works exceedingly well if $U$ is strongly convex—you may have already proven the key inequality for this result in the optional exercise from the previous subsection. However if $U$ is not strongly convex in regions of the phase space synchronous coupling can fail spectacularly (particularly in large dimensions) since this coupling relies on solely on the drift part of the dynamics to bring the two trajectories together.\n",
    "\n",
    "This flaw in synchronous coupling brings us to consider an alternative sticky coupling. In this notebook, we are only going to consider sticky couplings of the discretized dynamics (also called maximal-reflection coupling). \n",
    "\n",
    "Consider two Euler-Maruyama discretizations of SDEs with drifts $b_1$ and $b_2$ and additive noise\n",
    "$$\\begin{aligned}\n",
    "    X_{k+1} &= X_k + b_1\\left(X_k\\right)\\Delta t + \\sqrt{\\frac{2\\Delta t}{\\beta}}G_{k+1},\\\\\n",
    "    Y_{k+1} &= Y_k + b_2\\left(Y_k\\right)\\Delta t + \\sqrt{\\frac{2\\Delta t}{\\beta}}\\widetilde{G}_{k+1},\n",
    "\\end{aligned}\n",
    "$$\n",
    "where $G_{k+1}$ and $\\widetilde{G}_{k+1}$ are to standard normal random variables on $\\mathbb{R}^d$. We make no assumption for the moment on their joint distributions since that is what we want to play with. \n",
    "\n",
    "Denote by $\\mathbf{E}(x,y) = x - y + \\Delta t \\left(b_1(x) - b_2(y)\\right)$ the difference vector between the two trajectories after the drift update but before the stochastic update. We write $\\mathbf{e}(x,y)$ its normalization which is set to zero if $\\mathbf{E}(x,y) = 0$, \n",
    "$$\\mathbf{e}(x,y) = \\left\\{ \n",
    "\\begin{aligned}\n",
    "    &\\frac{\\mathbf{E}(x,y)}{\\left|\\mathbf{E}(x,y)\\right|} && \\text{ if } \\left|\\mathbb{E}(x,y)\\right| \\neq 0,\\\\\n",
    "    &0 && \\text{ otherwise}.\n",
    "\\end{aligned}\n",
    "\\right.$$\n",
    "At each step, we draw $G_{k+1}$ from a standard Gaussian and update the first marginal as usual,\n",
    "$$ X_{k+1} = X_k + b_1\\left(X_k\\right)\\Delta t + \\sqrt{\\frac{2\\Delta t}{\\beta}}G_{k+1}.$$\n",
    "For the second marginal, we want to maximize the probability that $Y_{k+1} = X_{k+1}$. Assuming $X_k = x$ and $Y_k = y$, this probability of collision is upper bounded by the coupling inequality\n",
    "$$\\mathbb{P}\\left(X_{k+1} = Y_{k+1} \\left| X_k = x, \\, Y_k = y \\right. \\right) \\leq 1 -  d_{\\mathrm{TV}}\\left(\\mathcal{N}\\left(x + \\Delta t b_1(x), \\sqrt{\\frac{2\\Delta t}{\\beta}}\\mathrm{Id}\\right), \\mathcal{N}\\left(y + \\Delta t b_2(y), \\sqrt{\\frac{2\\Delta t}{\\beta}}\\mathrm{Id}\\right)\\right).$$\n",
    "We can saturate this equality via the following construction: denote by $\\varphi_d$ the pdf of standard $d$-dimensional Gaussian density and define\n",
    "$$p_{\\Delta t, \\beta} (x,y, g) = \\frac{\\varphi_d\\left(g + \\sqrt{\\frac{\\beta}{2\\Delta t}}\\mathbf{E}(x,y)\\right)}{\\varphi_d(g)}.$$\n",
    "One can check that \n",
    "$$\\int_{\\mathbb{R}^d} \\min\\left\\{p_{\\Delta t, \\beta}(x, y, g), 1\\right\\} \\varphi_d(g) dg = 1 - d_{\\mathrm{TV}}\\left(\\mathcal{N}\\left(x + \\Delta t b_1(x), \\sqrt{\\frac{2\\Delta t}{\\beta}}\\mathrm{Id}\\right), \\mathcal{N}\\left(y + \\Delta t b_2(y), \\sqrt{\\frac{2\\Delta t}{\\beta}}\\mathrm{Id}\\right)\\right).$$\n",
    "So at each step we draw $U_{k+1}$ from uniform distribution on $[0,1]$ independently from $G_{k+1}$ and if $U_{k+1} \\leq p_{\\Delta t, \\beta} \\left(X_k,Y_k, G_{k+1}\\right)$ then we set $$Y_{k+1} = X_{k+1},$$ otherwise we update the second marginal using $G_{k+1}$ reflected over the hyperplane seperating $X_k$ and $Y_k$ as the driving noise\n",
    "$$Y_{k+1} = Y_k + b_2\\left(Y_k\\right)\\Delta t + \\sqrt{\\frac{2\\Delta t}{\\beta}}\\left[\\mathrm{Id} - 2\\mathbf{e}\\left(X_k, Y_k\\right)\\mathbf{e}\\left(X_k, Y_k\\right)^T\\right]G_{k+1}.$$\n",
    "\n",
    "Putting this all together, one step of the sticky coupled dynamics is given by\n",
    "$$\n",
    "\\begin{aligned}\n",
    "    X_{k+1} &= X_k + b_1\\left(X_k\\right)\\Delta t + \\sqrt{\\frac{2\\Delta t}{\\beta}}G_{k+1}\\\\\n",
    "    Y_{k+1} &= \\left\\{\n",
    "    \\begin{aligned}\n",
    "        &X_{k+1} && \\text{if } U_{k+1} \\leq p_{\\Delta t, \\beta} \\left(X_k,Y_k, G_{k+1}\\right),\\\\\n",
    "        &Y_{k+1} = Y_k + b_2\\left(Y_k\\right)\\Delta t + \\sqrt{\\frac{2\\Delta t}{\\beta}}\\left[\\mathrm{Id} - 2\\mathbf{e}\\left(X_k, Y_k\\right)\\mathbf{e}\\left(X_k, Y_k\\right)^T\\right]G_{k+1} && \\text{otherwise,}\n",
    "    \\end{aligned}\\right.\n",
    "\\end{aligned}\n",
    "$$\n",
    "with $\\left\\{U_k\\right\\}_{k\\geq 1}$ and $\\left\\{G_k\\right\\}_{k\\geq 1}$ mutually independent sequences of $[0,1]$-uniform random variables and $d$-dimensional standard Gaussian random variables respectively.\n",
    "\n",
    "<br>\n",
    "\n",
    "<b>Task:</b> Implement one integration step of sticky coupled dynamics in the next cell."
   ]
  },
  {
   "cell_type": "code",
   "execution_count": null,
   "id": "46d6efd5",
   "metadata": {},
   "outputs": [],
   "source": [
    "function sticky_integration_step!(x, y, G, drift_x, drift_y, β, dt, RNG)\n",
    "   #implement here\n",
    "end"
   ]
  },
  {
   "cell_type": "markdown",
   "id": "4784a2ef",
   "metadata": {},
   "source": [
    "As we did with synchronous coupling, we will test your implementation of sticky coupling on the harmonic and entropic switch examples.\n",
    "\n",
    "#### a) Strongly Convex Harmonic Potential"
   ]
  },
  {
   "cell_type": "code",
   "execution_count": null,
   "id": "062784d2",
   "metadata": {},
   "outputs": [],
   "source": [
    "#Simulating coupled trajectories with the same drift and different initial conditions\n",
    "\n",
    "drift(x) = -∇Harmonic(x)\n",
    "\n",
    "B = [sqrt(2) 0\n",
    "    sqrt(2)/2 sqrt(6)/2]\n",
    "RNG = Xoshiro(24092023) #fixing RNG\n",
    "\n",
    "###################################\n",
    "#two samples from the invariant measure of the continuous-time process\n",
    "x_0 = sqrt(1/(3β)) * B * randn(RNG, 2)\n",
    "y_0 = sqrt(1/(3β)) * B * randn(RNG, 2)\n",
    "####################################\n",
    "\n",
    "\n",
    "# ###################################\n",
    "# #Difference in the first eigendirection\n",
    "# x_0 = [-1., 1]\n",
    "# y_0 = zeros(2)\n",
    "# ####################################\n",
    "\n",
    "# ###################################\n",
    "# #Difference in the second eigendirection\n",
    "# x_0 = [1., 1]\n",
    "# y_0 = zeros(2)\n",
    "# ####################################\n",
    "\n",
    "T = 1.\n",
    "dt = 0.01\n",
    "β = 1.\n",
    "burn = 0.\n",
    "x_traj, y_traj = coupled_traj(drift, drift, sticky_integration_step!, β, x_0, y_0, T, burn, dt; RNG = RNG);"
   ]
  },
  {
   "cell_type": "code",
   "execution_count": null,
   "id": "d16fbac1",
   "metadata": {},
   "outputs": [],
   "source": [
    "#Plotting the distance between the two trajectories with the same drift and different inital conditions\n",
    "plot(0:dt:T, [norm([x_traj[:, i] - y_traj[:, i]]) for i in axes(x_traj, 2)], label = L\"\\left|X_t - Y_t\\right|\",\n",
    "marker= :circle)\n",
    "plot!(legendfontsize = 15)"
   ]
  },
  {
   "cell_type": "code",
   "execution_count": null,
   "id": "3e60e6ba",
   "metadata": {},
   "outputs": [],
   "source": [
    "#Plotting the harmonic dynamics with same drift and different initial conditions\n",
    "contourf(xrange, yrange, Harmonic, levels=50, cmap=:hsv)\n",
    "plot!(x_traj[1, 1:20], x_traj[2, 1:20], color = :black, lw = 1.5, label = L\"X\")\n",
    "scatter!(x_traj[1, 1:1], x_traj[2, 1:1], color = :black, lw = 1.5, label = L\"X_0\")\n",
    "plot!(y_traj[1, 1:20], y_traj[2, 1:20], color = :lightgray, lw = 1.5, label = L\"Y\")\n",
    "scatter!(y_traj[1, 1:1], y_traj[2, 1:1], color = :lightgray, lw = 1.5, label = L\"Y_0\")\n",
    "plot!(legendfontsize = 12)"
   ]
  },
  {
   "cell_type": "markdown",
   "id": "d7af3ce6",
   "metadata": {},
   "source": [
    "We now look at the behavior of the sticky coupling based estimator of the transport coefficient.\n",
    "\n",
    "<b> Task:</b> In the next cell vary the intensity of the perturbation $\\eta$, the inverse temperature $\\beta$, and runtime $T$ and comment on the convergence of $\\widehat{\\Psi}_{\\eta,t}^{\\mathrm{sync}}$. You may also look at the plots of the trajectories in the cell after and the distribution of distances between the trajectories in the cell after that. "
   ]
  },
  {
   "cell_type": "code",
   "execution_count": null,
   "id": "53b7565e",
   "metadata": {},
   "outputs": [],
   "source": [
    "x_0 = [1., 0]\n",
    "η = 0.1\n",
    "β = 1.\n",
    "dt = 0.01\n",
    "T = 50000\n",
    "burn = 1000\n",
    "N = floor(Int64, T/dt)\n",
    "dt = T/N\n",
    "N_burn = floor(Int64, burn/dt)\n",
    "RNG = Xoshiro(24092023) #fixing RNG\n",
    "\n",
    "drift_x(x) = -∇Harmonic(x) + η*rotation(x) #perturbed drift\n",
    "drift_y(x) = -∇Harmonic(x) #equilibrium drift\n",
    "\n",
    "x_traj, y_traj = coupled_traj(drift_x, drift_y, sticky_integration_step!, β, x_0, y_0, T, burn, dt; RNG = RNG)\n",
    "Ψ_sync = cumsum(R.(x_traj[1, :], x_traj[2, :]) - R.(y_traj[1, :], y_traj[2, :])) ./ (1:N+1) ./η\n",
    "α_R = 1/(3β)\n",
    "\n",
    "plot(0:10dt:T, Ψ_sync[1:10:end], label = L\"\\widehat{\\Psi}_{\\eta, t}\")\n",
    "plot!([0, T], [α_R, α_R], label = L\"\\alpha_R\", legendfontsize = 15)"
   ]
  },
  {
   "cell_type": "code",
   "execution_count": null,
   "id": "6a9d4314",
   "metadata": {},
   "outputs": [],
   "source": [
    "#Plotting the trajectories the equilibrium and nonequilibrium processes \n",
    "#if you can't differentiate the two trajectories either increase η and rerun the previous cell\n",
    "#or try a different range of indicies\n",
    "contourf(xrange, yrange, Harmonic, levels=50, cmap=:hsv)\n",
    "plot!(x_traj[1, 2000:2500], x_traj[2, 2000:2500], color = :black, lw = 1.5, label = L\"X^\\eta\")\n",
    "plot!(y_traj[1, 2000:2500], y_traj[2, 2000:2500], color = :lightgray, lw = 1.5, label = L\"Y^0\")\n",
    "plot!(legendfontsize = 15)"
   ]
  },
  {
   "cell_type": "code",
   "execution_count": null,
   "id": "41582cbc",
   "metadata": {},
   "outputs": [],
   "source": [
    "#Plotting the empirical distribution of distance between the equilibrium and nonequilibrium processes\n",
    "sticky_hist = normalize(fit(Histogram, [norm([x_traj[:, i] - y_traj[:, i]]) for i in axes(x_traj, 2)], \n",
    "    vcat(0, 100*eps(Float64), LinRange(0, 4,81)[2:end])))\n",
    "\n",
    "plot()\n",
    "plot!(sticky_hist.edges[1][2:end-1], sticky_hist.weights[2:end], label = \"\")\n",
    "scatter!([0], [sticky_hist.edges[1][2] * sticky_hist.weights[1]], label = \"Sticky mass at 0\")\n",
    "plot!(title = latexstring(\"Distribution of \\$\\\\left|X_t - Y_t\\\\right|\\$\"), \n",
    "    xlabel = \"Distance between trajectories\", seriestype = :barhist)"
   ]
  },
  {
   "cell_type": "markdown",
   "id": "66c79972",
   "metadata": {},
   "source": [
    "#### b) Non-convex Entropic Switch Potential"
   ]
  },
  {
   "cell_type": "code",
   "execution_count": null,
   "id": "42abd375",
   "metadata": {},
   "outputs": [],
   "source": [
    "#Simulating coupled trajectories with the same drift and different initial conditions\n",
    "\n",
    "drift(x) = -∇entropic_switch(x)\n",
    "\n",
    "q_l = [-1.048, -0.04210]\n",
    "q_r = [1.048, -0.04210]\n",
    "x_0 = [1., 1]\n",
    "y_0 = [0., 0.]\n",
    "β = 1.\n",
    "T = 7.\n",
    "burn = 0.\n",
    "dt = 0.01\n",
    "RNG = Xoshiro(24092023) #fixing RNG\n",
    "x_traj, y_traj = coupled_traj(drift, drift, sticky_integration_step!, β, q_l, q_r, T, burn, dt; RNG = RNG)\n",
    "\n",
    "plot()\n",
    "plot!(0:dt:T, [norm([x_traj[:, i] - y_traj[:, i]]) for i in axes(x_traj, 2)], label = L\"\\left|X_t - Y_t\\right|\")\n",
    "plot!(legendfontsize = 15)"
   ]
  },
  {
   "cell_type": "markdown",
   "id": "7761ae24",
   "metadata": {},
   "source": [
    "In the following cells we look at the behavior of the sticky coupling based estimator of the transport coefficient.\n",
    "\n",
    "<b> Task:</b> In the next cell vary the intensity of the perturbation $\\eta$, the inverse temperature $\\beta$, and runtime $T$ and comment on the convergence of $\\widehat{\\Psi}_{\\eta,t}^{\\mathrm{sync}}$. You may also look at the plots of the trajectories in the cell after and the distribution of distances between the trajectories in the cell after that. "
   ]
  },
  {
   "cell_type": "code",
   "execution_count": null,
   "id": "ce9d0a62",
   "metadata": {},
   "outputs": [],
   "source": [
    "x_0 = [0., 0]\n",
    "η = 0.2\n",
    "β = 1.\n",
    "dt = 0.01\n",
    "T = 50000\n",
    "burn = 10000\n",
    "N = floor(Int64, T/dt)\n",
    "dt = T/N\n",
    "N_burn = floor(Int64, burn/dt)\n",
    "RNG = Xoshiro(24092023) #fixing RNG\n",
    "\n",
    "drift_x(x) = -∇entropic_switch(x) + η*rotation(x) #perturbed drift\n",
    "drift_y(x) = -∇entropic_switch(x) #equilibrium drift\n",
    "\n",
    "x_traj, y_traj = coupled_traj(drift_x, drift_y, sticky_integration_step!, β, x_0, y_0, T, burn, dt; RNG = RNG)\n",
    "Ψ_sticky = cumsum(x_traj[1, :] - y_traj[1, :]) ./ (1:N+1) ./η\n",
    "\n",
    "plot(0:10dt:T, Ψ_sticky[1:10:end], label = L\"\\widehat{\\Psi}_{\\eta, t}\")\n",
    "plot!(legendfontsize = 15, ylims = (0, 1))"
   ]
  },
  {
   "cell_type": "code",
   "execution_count": null,
   "id": "6d35b843",
   "metadata": {},
   "outputs": [],
   "source": [
    "contourf(xrange, yrange, entropic_switch, levels=50, cmap=:hsv)\n",
    "plot!(x_traj[1, 1:500], x_traj[2, 1:500], color = :black, lw = 1.5, label = L\"X\")\n",
    "plot!(y_traj[1, 1:500], y_traj[2, 1:500], color = :lightgray, lw = 1.5, label = L\"Y\")\n",
    "plot!(legendfontsize = 15)"
   ]
  },
  {
   "cell_type": "code",
   "execution_count": null,
   "id": "57d3bcd1",
   "metadata": {},
   "outputs": [],
   "source": [
    "#Plotting the empirical distribution of distance between the equilibrium and nonequilibrium processes\n",
    "sticky_hist = normalize(fit(Histogram, [norm([x_traj[:, i] - y_traj[:, i]]) for i in axes(x_traj, 2)], \n",
    "    vcat(0, 100*eps(Float64), LinRange(0, 4,81)[2:end])))\n",
    "\n",
    "plot()\n",
    "plot!(sticky_hist.edges[1][2:end-1], sticky_hist.weights[2:end], label = \"\")\n",
    "scatter!([0], [sticky_hist.edges[1][2] * sticky_hist.weights[1]], label = \"Sticky mass at 0\")\n",
    "plot!(title = latexstring(\"Distribution of \\$\\\\left|X_t - Y_t\\\\right|\\$\"), \n",
    "    xlabel = \"Distance between trajectories\", seriestype = :barhist)"
   ]
  },
  {
   "cell_type": "markdown",
   "id": "de344038",
   "metadata": {},
   "source": [
    "## III) Some Additional Topics"
   ]
  },
  {
   "cell_type": "markdown",
   "id": "01b2aeb5",
   "metadata": {},
   "source": [
    "### 1) Failure of Synchronous Coupling for Kinetic Langevin Dynamics\n",
    "It is know that for synchronous coupling to work on kinetic Langevin dynamics we need to make additional assumptions on the potential, $U$, and friction parameter, $\\gamma$. Specifically we need to assume that there exists $ \\Lambda \\geq \\lambda > 0 $ such that \n",
    "$$ \\lambda \\mathrm{Id} \\leq \\nabla^2U \\leq \\Lambda \\mathrm{Id},$$ \n",
    "and that $\\gamma > \\sqrt{\\Lambda} - \\sqrt{\\lambda}$.\n",
    "\n",
    "We propose to try to implement a synchronous coupling of two discretized Langevin with the same quartic plus quadratic potential started different inital conditions. This potential cannot satisfy the above assumptions. What happens in this case? \n",
    "\n",
    "We refer to yesterday's notebook for guidance on how to implement discretizations of kinetic Langevin dynamics."
   ]
  },
  {
   "cell_type": "code",
   "execution_count": null,
   "id": "97ec3636",
   "metadata": {},
   "outputs": [],
   "source": [
    "#quartic plus quadratic potential\n",
    "ϕ(x) = @. x^2/2 + x^4/4 \n",
    "∇ϕ(x) = @. x + x^3"
   ]
  },
  {
   "cell_type": "code",
   "execution_count": null,
   "id": "8f2c5688",
   "metadata": {},
   "outputs": [],
   "source": []
  },
  {
   "cell_type": "markdown",
   "id": "dff4dfdc",
   "metadata": {},
   "source": [
    "### 2) L-Lag Couplings\n",
    "In [arxiv:1905.09971](https://arxiv.org/abs/1905.09971) the authors proposed using an $L$-lag coupling to empirical estimate the rate of convergence to the stationary probability measure of a Markov chain. See page 2 for the algorithm.\n",
    "\n",
    "We propose that you use your implementations of sticky coupling to estimate the the convergence rate of the Euler-Maruyama discretization of overdamped Langevin dynamics for our two example potentials."
   ]
  },
  {
   "cell_type": "code",
   "execution_count": null,
   "id": "6d84c524",
   "metadata": {},
   "outputs": [],
   "source": []
  },
  {
   "cell_type": "markdown",
   "id": "0c4f7f56",
   "metadata": {},
   "source": [
    "### 3) Unbiased Estimators Based on Couplings\n",
    "\n",
    "In the same vein as the previous point, we can also use $L$-Lag coupling to construct unbiased estimators based on couplings (unbiased with respect to invariant measure of discretized dynamics). See section 2 of [arXiv:1708.03625](https://arxiv.org/abs/1708.03625).\n",
    "\n",
    "We propose you implement a method that generates unbiased samples from the invariant measure of a discretized overdamped Langevin equation using your implementation of various coupling methods in the previous section."
   ]
  },
  {
   "cell_type": "code",
   "execution_count": null,
   "id": "3f9f91f0",
   "metadata": {},
   "outputs": [],
   "source": []
  },
  {
   "cell_type": "markdown",
   "id": "a0b08a46",
   "metadata": {},
   "source": [
    "### 4) Couplings of Metropolised Dynamics\n",
    "\n",
    "In this notebook, we largely concerned ourselves with unadjusted overdamped Langevin dynamics, i.e. we had no Metropolis-Hastings step. Naively using the couplings we have implemented above may result in a submaximal coupling due to the Metropolis-Hastings step. It is however possible to construct couplings that take into account the Metropolis-Hastings adjust and hopefully perform better.\n",
    "\n",
    "We propose you implement the maximal-reflection (sticky) coupling of Metropolised kernels in [arxiv:2010.08573](https://arxiv.org/abs/2010.08573)."
   ]
  },
  {
   "cell_type": "code",
   "execution_count": null,
   "id": "5a4acac9",
   "metadata": {},
   "outputs": [],
   "source": []
  }
 ],
 "metadata": {
  "kernelspec": {
   "display_name": "Julia 1.9.2",
   "language": "julia",
   "name": "julia-1.9"
  },
  "language_info": {
   "file_extension": ".jl",
   "mimetype": "application/julia",
   "name": "julia",
   "version": "1.9.2"
  }
 },
 "nbformat": 4,
 "nbformat_minor": 5
}
