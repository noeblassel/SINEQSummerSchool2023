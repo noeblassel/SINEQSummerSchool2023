{
 "cells": [
  {
   "cell_type": "markdown",
   "metadata": {},
   "source": [
    "# Computing transport coefficients with Molly\n",
    "\n",
    "ANR SINEQ Summer School - 29/09/23\n",
    "\n",
    "**Author: Renato Spacek**\n",
    "\n",
    "In this practical session, we will discuss how to compute transport coefficients in [Molly.jl](https://github.com/JuliaMolSim/Molly.jl), a molecular dynamics package written in Julia. In particular, the example we consider is the computation of shear viscosity using the transverse force field method ([Joubaud & Stoltz, 2012](https://epubs.siam.org/doi/abs/10.1137/110836237)).\n",
    "\n",
    "To simulate the shearing effect, we consider a sinusoidal force profile which applies, to each particle, a force in the $x$-direction depending on its $y$-coordinate. More precisely, it is given by\n",
    "\n",
    "<a id=\"sin_fp\"></a>\n",
    "$$\n",
    "    \\tag{1}\n",
    "    f_y(u) = \\sin\\left(\\frac{2\\pi u}{L_y}\\right),\n",
    "$$\n",
    "\n",
    "with $L_y$ the boundary length in the $y$-direction. The effect of the forcing is illustrated below.\n",
    "\n",
    "<p align=\"center\">\n",
    "    <img src=\"../assets/sin_visc3.gif\" controls title=\"Title\"></img>\n",
    "</p>\n",
    "\n",
    "For a system of $N$ particles with boundary length $L$, the shear viscosity $\\sigma$ can be computed as\n",
    "\n",
    "<a id=\"sv\"></a>\n",
    "$$\n",
    "    \\tag{2}\n",
    "    \\sigma=\\rho\\left(\\frac{1}{2\\rho_1} - \\gamma\\right)\\left(\\frac{L}{2\\pi}\\right)^2,\n",
    "$$\n",
    "\n",
    "where $\\rho = N/L^3$ is the density of the system, $\\gamma$ is the friction, and $\\rho_1$ is relevant linear response, which can be computed with two approaches, both of which are discussed here: (i) the nonequilibrium method; and (ii) the Green-Kubo method.\n",
    "\n",
    "For both approaches, the dynamics we consider is Langevin dynamics, which evolves the positions $q$ and momenta $p$ according to the SDE\n",
    "\n",
    "<a id=\"lang\"></a>\n",
    "$$\n",
    "\\tag{3}\n",
    "\\begin{align*}\n",
    "    \\begin{cases}\n",
    "        dq_t = M^{-1}p_t \\, dt, \\\\\n",
    "        dp_t = -\\nabla V(q_t) \\, dt - \\gamma M^{-1}p_t \\, dt+\\sqrt{\\dfrac{2\\gamma}{\\beta}} dW_t.\n",
    "    \\end{cases}\n",
    "\\end{align*}\n",
    "$$\n",
    "\n",
    "We briefly discuss the definition of shear viscosity and the derivation of the expression <a href=\"#sv\">(2)</a> in the next section."
   ]
  },
  {
   "cell_type": "markdown",
   "metadata": {},
   "source": [
    "\n",
    "## Definition of shear viscosity\n",
    "\n",
    "The shear viscosity $\\sigma$ is defined by the following ODE\n",
    "\n",
    "<a id=\"sv_ode\"></a>\n",
    "$$\n",
    "    \\tag{4}\n",
    "    -\\sigma u''_x(Y) + \\gamma\\rho u_x(Y) = \\rho f_y(Y),\n",
    "$$\n",
    "\n",
    "whose solutions are periodic, thus the magnitude of the linear response can be estimated from its Fourier coefficients. We write\n",
    "\n",
    "<a id=\"ckh\"></a>\n",
    "$$\n",
    "    \\tag{5}\n",
    "    c_k(h) = \\frac{1}{L}\\int_0^L h(s)\\exp\\left(\\frac{2ik\\pi s}{L}\\right) ds\n",
    "$$\n",
    "\n",
    "as the $k$-th Fourier coefficient for an $L$-periodic function $h$. Applying <a href=\"#ckh\">(5)</a> to <a href=\"#sv_ode\">(4)</a> yields an expression for the shear viscosity:\n",
    "\n",
    "$$\n",
    "    \\sigma=\\rho\\left(\\frac{c_k(f_y)}{c_k(u_x)} - \\gamma\\right)\\left(\\frac{L}{2k\\pi}\\right)^2.\n",
    "$$\n",
    "\n",
    "The Fourier coefficient $c_k(u_x)$ can be estimated directly from trajectory averages. Thus, we define the response observable as the empirical Fourier coefficients:\n",
    "\n",
    "\n",
    "<a id=\"Rk\"></a>\n",
    "$$\n",
    "    \\tag{6}\n",
    "    R_k(q,p) = \\frac{1}{N}\\sum_{i=1}^N \\frac{p_{i1}}{m}\\exp\\left(\\frac{2ik\\pi q_{i2}}{L}\\right).\n",
    "$$\n",
    "\n",
    "In practice, it is sufficient to to consider $k=1$, i.e. the first Fourier coefficient. Furthermore, by analytically computing the Fourier coefficient of the forcing profile, we obtain the expression <a href=\"#sv\">(2)</a>.\n",
    "\n",
    "For a more precise and detailed discussion, see [Joubaud & Stoltz, 2012](https://epubs.siam.org/doi/abs/10.1137/110836237).\n"
   ]
  },
  {
   "cell_type": "markdown",
   "metadata": {},
   "source": [
    "---\n",
    "## Technique 1: Nonequilibrium method\n",
    "\n",
    "For the nonequilibrium approach, we consider the case where the Langevin dynamics <a href=\"#lang\">(3)</a> is perturbed by some <span style=\"color:blue\">nongradient force</span> $F$ of magnitude $\\eta$:\n",
    "\n",
    "$$\n",
    "\\begin{align*}\n",
    "    \\begin{cases}\n",
    "        dq_t = M^{-1}p_t \\, dt, \\\\\n",
    "        dp_t = -\\nabla V(q_t) \\, dt \\textcolor{blue}{+ \\eta F(q_t) \\, dt} - \\gamma M^{-1}p_t \\, dt + \\sqrt{\\dfrac{2\\gamma}{\\beta}} dW_t.\n",
    "    \\end{cases}\n",
    "\\end{align*}\n",
    "$$\n",
    "\n",
    "As discussed, we consider the case where $F$ corresponds to a shearing force, which applies a force in the $x$-direction which depends on the $y$-coordinate:\n",
    "\n",
    "$$\n",
    "    F(q) = \\begin{pmatrix} f_y(q_2) \\\\ 0 \\\\ 0 \\end{pmatrix},\n",
    "$$\n",
    "\n",
    "with $f_y$ the sinusoidal forcing profile defined in <a href=\"#sin_fp\">(1)</a>.\n",
    "\n",
    "**Linear response theory:** The perturbation $\\eta F$ is expected to induce a response from the system, expressed as a steady-state average $\\mathbb{E}_\\eta(R)$ for some observable $R$ of interest. For small values of $\\eta$, the response is linear in $\\eta$. The *linear response* $\\rho_1$ is thus defined as the proportionality constant between the perturbation and the response:\n",
    "\n",
    "$$\n",
    "    \\rho_1 = \\lim_{\\eta\\to 0} \\frac{\\mathbb{E}_\\eta(R)}{\\eta}.\n",
    "$$\n",
    "\n",
    "In the case of shear viscosity, the observable $R$ corresponds to the first empirical Fourier coefficient <a href=\"#Rk\">(6)</a>, which reads\n",
    "\n",
    "<a id=\"Rk1\"></a>\n",
    "$$\n",
    "    \\tag{7}\n",
    "    R(q,p) = \\frac{1}{N}\\sum_{i=1}^N \\frac{p_{i1}}{m}\\exp\\left(\\frac{2i\\pi q_{i2}}{L}\\right).\n",
    "$$"
   ]
  },
  {
   "cell_type": "markdown",
   "metadata": {},
   "source": [
    "---\n",
    "#### Implementation in Molly\n",
    "\n",
    "We start by importing the necessary packages."
   ]
  },
  {
   "cell_type": "code",
   "execution_count": null,
   "metadata": {},
   "outputs": [],
   "source": [
    "using Molly\n",
    "using LinearAlgebra\n",
    "using Statsbase\n",
    "using Plots"
   ]
  },
  {
   "cell_type": "markdown",
   "metadata": {},
   "source": [
    "Recall the overall structure for the `System` object, whose fields must be appropriately defined:"
   ]
  },
  {
   "cell_type": "markdown",
   "metadata": {},
   "source": [
    "```julia\n",
    "\"\"\"\n",
    "System(;\n",
    "        atoms,\n",
    "        coords,\n",
    "        boundary,\n",
    "        velocities=nothing,\n",
    "        atoms_data=[],\n",
    "        topology=nothing,\n",
    "        pairwise_inters=(),\n",
    "        specific_inter_lists=(),\n",
    "        general_inters=(),\n",
    "        constraints=(),\n",
    "        neighbor_finder=NoNeighborFinder(),\n",
    "        loggers=(),\n",
    "        force_units=u\"kJ * mol^-1 * nm^-1\",\n",
    "        energy_units=u\"kJ * mol^-1\",\n",
    "        k=default_k(energy_units))\n",
    "\"\"\"\n",
    "```"
   ]
  },
  {
   "cell_type": "markdown",
   "metadata": {},
   "source": [
    "We define a function `place_atoms_on_3D_lattice()`, which initializes coordinates on a cubic lattice."
   ]
  },
  {
   "cell_type": "code",
   "execution_count": null,
   "metadata": {},
   "outputs": [],
   "source": [
    "\"\"\"\n",
    "    place_atoms_on_3D_lattice(Nx::Integer, Ny::Integer, Nz::Integer, boundary)\n",
    "\"\"\"\n",
    "function place_atoms_on_3D_lattice(Nx::Integer, Ny::Integer, Nz::Integer, boundary)\n",
    "    (Lx, Ly, Lz) = boundary.side_lengths\n",
    "    reshape([SVector(i*Lx/Nx, j*Ly/Ny, k*Lz/Nz) for i = 0:Nx-1, j = 0:Ny-1, k = 0:Nz-1], Nx*Ny*Nz)\n",
    "end\n",
    ";"
   ]
  },
  {
   "cell_type": "markdown",
   "metadata": {},
   "source": [
    "#### Interaction potential and neighbor finder\n",
    "\n",
    "For our system, we consider the Lennard-Jones interaction potential:\n",
    "\n",
    "$$\n",
    "    V(r) = 4\\epsilon\\left[\\left(\\frac{\\sigma}{r}\\right)^{12} - \\left(\\frac{\\sigma}{r}\\right)^6\\right],\n",
    "$$\n",
    "\n",
    "where\n",
    "- $\\sigma$ = distance at which $V(\\sigma) = 0$;\n",
    "- $\\epsilon$ = depth of potential well.\n",
    "\n",
    "By applying a cutoff radius $r_c$, the resulting truncated potential $V_\\text{tr}(r)$ reads\n",
    "\n",
    "$$\n",
    "\\begin{align*} V_\\text{tr}(r) = \n",
    "    \\begin{cases}\n",
    "        V(r) - V(r_c), \\quad &r \\leq r_c, \\\\\n",
    "        0, &r > r_c.\n",
    "    \\end{cases}\n",
    "\\end{align*}\n",
    "$$\n",
    "\n",
    "<p align=\"center\">\n",
    "    <img src=\"../assets/LJ_plot2.png\" alt=\"drawing\" width=\"600\"/>\n",
    "</p>"
   ]
  },
  {
   "cell_type": "markdown",
   "metadata": {},
   "source": [
    "#### Simulation parameters and initialization\n",
    "\n",
    "We now define the simulation parameters, the interaction potential and initialize positions and momenta. In particular, we\n",
    "\n",
    "- define the Lennard-Jones interacting potential with cutoff, and neighbor finder algorithm;\n",
    "- define `coords` using the `place_atoms_on_3D()` function defined above;\n",
    "- define `velocities` with the `random_velocity()` Molly function;\n",
    "- define `boundary` with the `CubicBoundary()` Molly function;\n",
    "- create `atoms` acting under the Lennard-Jones potential with the `Atom()` Molly function.\n",
    "\n",
    "**Remark:** Without loss of generality, we consider a domain with equal side lengths, i.e. $L = L_x = L_y = L_z$."
   ]
  },
  {
   "cell_type": "code",
   "execution_count": null,
   "metadata": {},
   "outputs": [],
   "source": [
    "Nsteps = 1000 # number of steps\n",
    "dt = 1e-3 # timestep, check its not too small\n",
    "\n",
    "Ns = 5 # number of particles \"per side\"\n",
    "N = Ns^3 # total number of particles\n",
    "\n",
    "# Lennard-Jones parameters\n",
    "ϵ = 1.0 # depth of potential well\n",
    "σ = 1.0 # distance at which V(σ) = 0\n",
    "rc = 2.5*σ # interaction cutoff radius\n",
    "m = 1.0 # mass of particle\n",
    "kB = 1.0 # Boltzmann constant, nondimensionalized\n",
    "\n",
    "γ = 1.0 # friction\n",
    "ρ = 0.7 # density\n",
    "T = 0.8 # temperature\n",
    "β = 1/(kB*T) # inverse temperature\n",
    "\n",
    "α = cbrt(1/ρ) # cell length\n",
    "L = α*Ns # simulation box length\n",
    "\n",
    "boundary = CubicBoundary(L, L, L)\n",
    "coords = place_atoms_on_3D_lattice(Ns, Ns, Ns, boundary)\n",
    "atoms = [Atom(index = i, ϵ = ϵ, σ = σ, mass = m) for i = 1:N]\n",
    "velocities = [random_velocity(m, T, kB) for i = 1:N]\n",
    "\n",
    "cutoff = ShiftedForceCutoff(rc)\n",
    "lj_w_cutoff = LennardJones(cutoff = cutoff, force_units = NoUnits, energy_units = NoUnits)\n",
    "nf = CellListMapNeighborFinder(eligible = trues(N,N), unit_cell = boundary, n_steps = 1, dist_cutoff = rc)\n",
    ";"
   ]
  },
  {
   "cell_type": "markdown",
   "metadata": {},
   "source": [
    "### Exercise: implementing the nonequilibrium forcing\n",
    "\n",
    "We now implement the extra forcing. The first step is to define the forcing struct, which contains the forcing profile and its magnitude.\n",
    "\n",
    "**Task:** Complete the `NEMD_longitudinal_forcing` struct by filling in its two fields: \n",
    "- The forcing profile should be called `force_profile` (of type `F`);\n",
    "- Its magnitude should be called `η` (of type `Float64`)."
   ]
  },
  {
   "cell_type": "code",
   "execution_count": null,
   "metadata": {},
   "outputs": [],
   "source": [
    "struct NEMD_longitudinal_forcing{F}\n",
    "   # fill in the fields here\n",
    "end\n",
    ";"
   ]
  },
  {
   "cell_type": "markdown",
   "metadata": {},
   "source": [
    "<details>\n",
    "  <summary>Click here to see answer</summary>\n",
    "  \n",
    "  ```julia\n",
    "    struct NEMD_longitudinal_forcing{F}\n",
    "        force_profile::F\n",
    "        η::Float64\n",
    "    end\n",
    "  ```\n",
    "</details>"
   ]
  },
  {
   "cell_type": "markdown",
   "metadata": {},
   "source": [
    "---\n",
    "#### Forcing profile\n",
    "\n",
    "Next, we define the appropriate forcing profile and create a forcing object.\n",
    "\n",
    "**Task:** Create an object of type `NEMD_longitudinal_forcing`. This is done as follows:\n",
    "- Create the forcing profile function (which should be called `sinus_forcing`);\n",
    "- Create a variable which denotes its magnitude (which should be called `η`);\n",
    "- Create the object of type `NEMD_longitudinal_forcing` (which should be called `forcing`).\n",
    "\n",
    "For convenience, we recall the expression for the forcing profile defined in <a href=\"#sin_fp\">(1)</a>:\n",
    "\n",
    "$$\n",
    "    f_y(u) = \\sin\\left(\\frac{2\\pi u}{L_y}\\right).\n",
    "$$"
   ]
  },
  {
   "cell_type": "code",
   "execution_count": null,
   "metadata": {},
   "outputs": [],
   "source": [
    "# define the appropriate variables and create the object here"
   ]
  },
  {
   "cell_type": "markdown",
   "metadata": {},
   "source": [
    "<details>\n",
    "  <summary>Click here to see answer</summary>\n",
    "  \n",
    "  ```julia\n",
    "    η = 1.0 # magnitude of perturbation\n",
    "    sinus_forcing = (y -> sin(2π*y/L))\n",
    "    forcing = NEMD_longitudinal_forcing(sinus_forcing, η)\n",
    "  ```\n",
    "</details>"
   ]
  },
  {
   "cell_type": "markdown",
   "metadata": {},
   "source": [
    "---\n",
    "#### Force computation\n",
    "\n",
    "At this point, we must tell Molly how to compute the forces associated with our custom force of type `NEMD_longitudinal_forcing`. To do so, we create a `Molly.forces()` method which takes in interactions of type `NEMD_longitudinal_forcing`.\n",
    "\n",
    "**Task:** Complete the `Molly.forces()` method below. In particular, make the appropriate changes to `f` inside the function so that it outputs the correct extra force term. Recall that the force on atom $i$ is given by\n",
    "\n",
    "$$\n",
    "\\text{force}_i = \\eta F, \\qquad F = \\begin{pmatrix}f_y(q_{i2}) \\\\ 0 \\\\ 0 \\end{pmatrix},\n",
    "$$\n",
    "\n",
    "where $q_{i2}$ denotes the $y$-component of the position of atom $i$."
   ]
  },
  {
   "cell_type": "code",
   "execution_count": null,
   "metadata": {},
   "outputs": [],
   "source": [
    "\"\"\"\n",
    "    function Molly.forces(inter::NEMD_longitudinal_forcing{F}, s::System, neighbors=nothing; n_threads=Threads.nthreads()) where {F}\n",
    "\"\"\"\n",
    "function Molly.forces(inter::NEMD_longitudinal_forcing{F}, s::System, neighbors=nothing; n_threads=Threads.nthreads()) where {F}\n",
    "    f = zero(s.velocities)\n",
    "    # write your changes here\n",
    "    return inter.η*f\n",
    "end\n",
    ";"
   ]
  },
  {
   "cell_type": "markdown",
   "metadata": {},
   "source": [
    "<details>\n",
    "  <summary>Click here to see answer</summary>\n",
    "  \n",
    "  ```julia\n",
    "function Molly.forces(inter::NEMD_longitudinal_forcing{F}, \n",
    "                        s::System, \n",
    "                        neighbors=nothing; \n",
    "                        n_threads=Threads.nthreads()) where {F}\n",
    "\n",
    "        f = zero(s.velocities)\n",
    "        f_x = view(reinterpret(reshape, Float64, f), 1, :)\n",
    "        q_y = view(reinterpret(reshape, Float64, s.coords), 2, :)\n",
    "        f_x .= inter.force_profile.(q_y)\n",
    "        \n",
    "        return inter.η*f\n",
    "end\n",
    "  ```\n",
    "</details>"
   ]
  },
  {
   "cell_type": "markdown",
   "metadata": {},
   "source": [
    "---\n",
    "#### Observable of interest\n",
    "\n",
    "We must also define a function that computes our desired response. In our case, it corresponds to the first empirical Fourier coefficient <a href=\"#Rk1\">(7)</a>, which we recall for convenience:\n",
    "\n",
    "$$\n",
    "    R(q,p) = \\frac{1}{N}\\sum_{i=1}^N \\frac{p_{i1}}{m}\\exp\\left(\\frac{2i\\pi q_{i2}}{L}\\right).\n",
    "$$\n",
    "\n",
    "**Task:** Complete a function `fourier_response()` which outputs the result of the equation above. In particular, you must define the following\n",
    "- `p_x`, the $x$-component of the momenta;\n",
    "- `q_y`, the $y$-component of the positions;\n",
    "- `N`, the number of particles in the system;\n",
    "- `Ly`, the length of the $y$-boundary."
   ]
  },
  {
   "cell_type": "code",
   "execution_count": null,
   "metadata": {},
   "outputs": [],
   "source": [
    "\"\"\"\n",
    "    fourier_response(s::System, args...; kwargs...)\n",
    "\"\"\"\n",
    "function fourier_response(s::System, args...; kwargs...)\n",
    "    # write your changes here\n",
    "    return dot(p_x, exp.(2im*π*q_y/Ly))/N\n",
    "end\n",
    ";"
   ]
  },
  {
   "cell_type": "markdown",
   "metadata": {},
   "source": [
    "<details>\n",
    "  <summary>Click here to see answer</summary>\n",
    "  \n",
    "  ```julia\n",
    "function fourier_response(s::System, args...; kwargs...)\n",
    "    p_x = view(reinterpret(reshape, Float64, s.velocities), 1, :)\n",
    "    q_y = view(reinterpret(reshape, Float64, s.coords), 2, :)\n",
    "    Ly = s.boundary.side_lengths[2]\n",
    "    N = length(s)\n",
    "    \n",
    "    return dot(p_x, exp.(2im*π*q_y/Ly))/N\n",
    "end\n",
    "  ```\n",
    "</details>"
   ]
  },
  {
   "cell_type": "markdown",
   "metadata": {},
   "source": [
    "---\n",
    "#### Logger\n",
    "\n",
    "We need to define a logger to track of our observable `fourier_response()` throughout the simulation.\n",
    "\n",
    "**Task:** Define a logger named `fourier_logger` using the `GeneralObservableLogger()` constructor, as described below."
   ]
  },
  {
   "cell_type": "code",
   "execution_count": null,
   "metadata": {},
   "outputs": [],
   "source": [
    "\"\"\"\n",
    "    GeneralObservableLogger(observable::Function, T, n_steps)\n",
    "\n",
    "`observable` should return an object of type `T` and support the method\n",
    "`observable(s::System, neighbors; n_threads::Integer)::T`.\n",
    "\n",
    "`n_steps` denotes the logging frequency.\n",
    "\"\"\"\n",
    "# define fourier_logger here"
   ]
  },
  {
   "cell_type": "markdown",
   "metadata": {},
   "source": [
    "<details>\n",
    "  <summary>Click here to see answer</summary>\n",
    "  \n",
    "  ```julia\n",
    "    freq = 1 # record frequency \n",
    "    fourier_logger = GeneralObservableLogger(fourier_response, ComplexF64, freq)\n",
    "  ```\n",
    "</details>"
   ]
  },
  {
   "cell_type": "markdown",
   "metadata": {},
   "source": [
    "---\n",
    "#### System and integrator\n",
    "\n",
    "We now define the system and choose the integrator of choice. In this case, we use the BAOAB splitting scheme.\n",
    "\n",
    "**Task:** Complete the `System` object below by filling in the remaining necessary fields."
   ]
  },
  {
   "cell_type": "code",
   "execution_count": null,
   "metadata": {},
   "outputs": [],
   "source": [
    "sys = System(# add the additional fields here\n",
    "                force_units=NoUnits,\n",
    "                energy_units=NoUnits,\n",
    "                k=kB)\n",
    "\n",
    "simulator = LangevinSplitting(\n",
    "    dt=dt,\n",
    "    temperature=T,\n",
    "    friction=γ,\n",
    "    splitting=\"BAOAB\",\n",
    ")\n",
    ";"
   ]
  },
  {
   "cell_type": "markdown",
   "metadata": {},
   "source": [
    "<details>\n",
    "  <summary>Click here to see answer</summary>\n",
    "  \n",
    "  ```julia\n",
    "sys = System(atoms=atoms,\n",
    "                coords=coords,\n",
    "                velocities=velocities,\n",
    "                boundary=boundary,\n",
    "                pairwise_inters=(lj_w_cutoff,),\n",
    "                general_inters=(forcing,),\n",
    "                neighbor_finder=nf,\n",
    "                loggers=(fourier=fourier_logger,),\n",
    "                force_units=NoUnits,\n",
    "                energy_units=NoUnits,\n",
    "                k=kB)\n",
    "\n",
    "simulator = LangevinSplitting(\n",
    "    dt=dt,\n",
    "    temperature=T,\n",
    "    friction=γ,\n",
    "    splitting=\"BAOAB\",\n",
    ")  \n",
    "```\n",
    "</details>"
   ]
  },
  {
   "cell_type": "markdown",
   "metadata": {},
   "source": [
    "---\n",
    "#### Running the simulation and computing $\\rho_1$\n",
    "\n",
    "Finally, we run the simulation and obtain the observable of choice.\n",
    "\n",
    "**Task:** Run the simulation with `simulate!()` and compute the shear viscosity. In particular, include a thermalization run (use the `run_loggers=false` kwarg for this run)."
   ]
  },
  {
   "cell_type": "code",
   "execution_count": null,
   "metadata": {},
   "outputs": [],
   "source": [
    "# write your code here"
   ]
  },
  {
   "cell_type": "markdown",
   "metadata": {},
   "source": [
    "<details>\n",
    "  <summary>Click here to see answer</summary>\n",
    "  \n",
    "  ```julia\n",
    "Ntherm = 1000 # number of thermalization steps\n",
    "\n",
    "simulate!(sys, simulator, Ntherm; run_loggers=false)\n",
    "simulate!(sys, simulator, Nsteps)\n",
    "\n",
    "obs = imag.(values(sys.loggers.fourier))\n",
    "\n",
    "ρ1 = mean(obs)/η\n",
    "σ_sv = ρ*(0.5/ρ1 - γ)*(L/2/pi)^2\n",
    "\n",
    "display(σ_sv)\n",
    "  ```\n",
    "</details>"
   ]
  },
  {
   "cell_type": "markdown",
   "metadata": {},
   "source": [
    "---\n",
    "## Technique 2: Green-Kubo formula"
   ]
  },
  {
   "cell_type": "markdown",
   "metadata": {},
   "source": [
    "An alternative technique for computing transport coefficients is by using the Green-Kubo formula:\n",
    "\n",
    "$$\n",
    "    \\rho_1 = \\int_0^{+\\infty} \\mathbb{E}_0\\left[R(q_t,p_t)S(q_0,p_0)\\right] dt,\n",
    "$$\n",
    "\n",
    "where $R$ is the observable of interest (i.e. the first empirical Fourier coefficient <a href=\"#Rk1\">(7)</a>), and $S$ the conjugate response function (see Section 5.2.3 of [Leliévre & Stoltz, 2016](https://www.researchgate.net/publication/303596906_Partial_differential_equations_and_stochastic_methods_in_molecular_dynamics) for a precise definition).\n",
    "\n",
    "This approach involves simulating typical equilibrium dynamics, and computing the appropriate correlation function for the transport coefficient of interest. We now discuss how to implement this approach in Molly."
   ]
  },
  {
   "cell_type": "markdown",
   "metadata": {},
   "source": [
    "### Exercise: implementing Green-Kubo\n",
    "\n",
    "The response function used here, namely $R$, is the same one used in the nonequilibrium approach, which we defined as `fourier_response()`. We must however define the conjugate response function $S$.\n",
    "\n",
    "**Task:** Complete the function `shear_conj_response()` so that it outputs the conjugate response function $S$, defined as\n",
    "\n",
    "$$\n",
    "    S = \\beta F(q)^TM^{-1}p.\n",
    "$$\n",
    "\n",
    "In particular, you must define `N`, `q_y` and `p_x`."
   ]
  },
  {
   "cell_type": "code",
   "execution_count": null,
   "metadata": {},
   "outputs": [],
   "source": [
    "\"\"\"\n",
    "    shear_conj_response(forcing::T) where {T}\n",
    "\"\"\"\n",
    "function shear_conj_response(forcing::T) where {T}\n",
    "    function R(sys, args...; kwargs...)\n",
    "        # write your changes here\n",
    "        return dot(p_x, forcing.(q_y))/sqrt(N)*β\n",
    "    end\n",
    "    return R\n",
    "end\n",
    ";"
   ]
  },
  {
   "cell_type": "markdown",
   "metadata": {},
   "source": [
    "<details>\n",
    "  <summary>Click here to see answer</summary>\n",
    "  \n",
    "  ```julia\n",
    "function shear_conj_response(forcing::T) where {T}\n",
    "    function R(sys, args...; kwargs...)\n",
    "        N = length(sys)\n",
    "        p_x = view(reinterpret(reshape, Float64, sys.velocities), 1, :)\n",
    "        q_y = view(reinterpret(reshape, Float64, sys.coords), 2, :)\n",
    "        \n",
    "        return dot(p_x, forcing.(q_y))/sqrt(N)*β\n",
    "    end\n",
    "\n",
    "    return R\n",
    "end\n",
    "  ```\n",
    "</details>"
   ]
  },
  {
   "cell_type": "markdown",
   "metadata": {},
   "source": [
    "---\n",
    "#### Logger\n",
    "\n",
    "We must define the time correlation logger, which tracks the time correlation function $C(t)$ throughout the simulation. In general, $C(t)$ is of the form\n",
    "\n",
    "$$\n",
    "    C(t) =  \\mathbb{E}_0[A_t\\cdot B_0].\n",
    "$$\n",
    "\n",
    "In our case, it reads\n",
    "\n",
    "$$\n",
    "    C(t) =  \\mathbb{E}_0[R(q_t,p_t)S(q_t,p_t)].\n",
    "$$\n",
    "\n",
    "**Task:** Define the logger, called `fourierAC_logger`, using the `TimeCorrelationLogger()` constructor, as described below.\n",
    "\n",
    "**Remark:** The time correlation logger in Molly approximates the expectation in the correlation function over a single trajectory with block sampling (as opposed to averaging over multiple trajectories). Thus, `n_correlation` should be much smaller than `Nsteps`, while still being larger than the decorrelation time."
   ]
  },
  {
   "cell_type": "code",
   "execution_count": null,
   "metadata": {},
   "outputs": [],
   "source": [
    "\"\"\"\n",
    "TimeCorrelationLogger(observableA::Function, observableB::Function,\n",
    "                        TA::DataType, TB::DataType,\n",
    "                        observable_length::Integer, n_correlation::Integer)\n",
    "\"\"\"\n",
    "# define fourierAC_logger here"
   ]
  },
  {
   "cell_type": "markdown",
   "metadata": {},
   "source": [
    "<details>\n",
    "  <summary>Click here to see answer</summary>\n",
    "  \n",
    "  ```julia\n",
    "    ncor = 1000 # number of correlation steps\n",
    "\n",
    "    sin_response = shear_conj_response(sinus_forcing)\n",
    "    fourierAC_logger = TimeCorrelationLogger(sin_response, fourier_response, Float64, ComplexF64, 1, ncor)\n",
    "  ```\n",
    "</details>"
   ]
  },
  {
   "cell_type": "markdown",
   "metadata": {},
   "source": [
    "---\n",
    "#### Redefining the system\n",
    "\n",
    "Below is the system we used for the nonequilibrium approach. We must make two changes so that it is appropriate for the Green-Kubo method.\n",
    "\n",
    "**Task:** Redefine the system after making the appropriate changes below."
   ]
  },
  {
   "cell_type": "code",
   "execution_count": null,
   "metadata": {},
   "outputs": [],
   "source": [
    "sys2 = System(atoms=atoms,\n",
    "                coords=coords,\n",
    "                velocities=velocities,\n",
    "                boundary=boundary,\n",
    "                pairwise_inters=(lj_w_cutoff,),\n",
    "                general_inters=(forcing,),\n",
    "                neighbor_finder=nf,\n",
    "                loggers=(fourier=fourier_logger,),\n",
    "                force_units=NoUnits,\n",
    "                energy_units=NoUnits,\n",
    "                k=kB)"
   ]
  },
  {
   "cell_type": "markdown",
   "metadata": {},
   "source": [
    "<details>\n",
    "  <summary>Click here to see answer</summary>\n",
    "\n",
    "  ```julia\n",
    "    # Only two changes were made from the nonequilibrium system, namely (i) removed general interactions field, and (ii) updated the logger\n",
    "    sys2 = System(atoms=atoms,\n",
    "                coords=coords,\n",
    "                velocities=velocities,\n",
    "                boundary=boundary,\n",
    "                pairwise_inters=(lj_w_cutoff,),\n",
    "                neighbor_finder=nf,\n",
    "                loggers=(fourierAC=fourierAC_logger,),\n",
    "                force_units=NoUnits,\n",
    "                energy_units=NoUnits,\n",
    "                k=kB)\n",
    "  ```\n",
    "</details>"
   ]
  },
  {
   "cell_type": "markdown",
   "metadata": {},
   "source": [
    "---\n",
    "#### Running the simulation and computing $\\rho_1$\n",
    "\n",
    "We finally run the simulation and compute the transport coefficient. Note that by time-integrating the correlation function $C(t)$, we obtain the Green-Kubo formula. This naturally suggests the following estimator for $\\rho_1$:\n",
    "\n",
    "$$\n",
    "    \\rho_1 \\approx \\Delta t\\sum_{k=0}^{N_\\text{corr}} \\widehat{C}(k\\Delta t).\n",
    "$$\n",
    "\n",
    "**Task:** Run the simulation (including a thermalization run) with `simulate!()` and compute the shear viscosity by performing a quadrature on the time correlation log values."
   ]
  },
  {
   "cell_type": "code",
   "execution_count": null,
   "metadata": {},
   "outputs": [],
   "source": [
    "# write your code here"
   ]
  },
  {
   "cell_type": "markdown",
   "metadata": {},
   "source": [
    "<details>\n",
    "  <summary>Click here to see answer</summary>\n",
    "  \n",
    "  ```julia\n",
    "simulate!(sys2, simulator, Ntherm; run_loggers=false)\n",
    "simulate!(sys2, simulator, Nsteps)\n",
    "\n",
    "obs = imag.(values(sys2.loggers.fourierAC))\n",
    "\n",
    "ρ1 = dt*sum(obs)\n",
    "σ_sv = ρ*(0.5/ρ1 - γ)*(L/2/pi)^2\n",
    "\n",
    "display(σ_sv)\n",
    "  ```\n",
    "</details>"
   ]
  }
 ],
 "metadata": {
  "kernelspec": {
   "display_name": "Julia 1.9.0",
   "language": "julia",
   "name": "julia-1.9"
  },
  "language_info": {
   "file_extension": ".jl",
   "mimetype": "application/julia",
   "name": "julia",
   "version": "1.9.0"
  }
 },
 "nbformat": 4,
 "nbformat_minor": 2
}
