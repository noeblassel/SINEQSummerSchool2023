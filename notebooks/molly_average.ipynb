{
 "cells": [
  {
   "cell_type": "markdown",
   "id": "de8bbc20",
   "metadata": {},
   "source": [
    "# Molly exercise\n",
    "\n",
    "This exercise will introduce you more to the Molly.jl package for molecular simulation. Julia 1.9 and Molly 0.18 or later are recommended. Basic familiarity with Julia and molecular dynamics concepts is assumed. You may find the [Molly documentation](https://juliamolsim.github.io/Molly.jl/stable/docs) and the [Julia documentation](https://docs.julialang.org/en/v1) helpful.\n",
    "\n",
    "First, we import the packages that we need."
   ]
  },
  {
   "cell_type": "code",
   "execution_count": null,
   "id": "aba93cf0",
   "metadata": {},
   "outputs": [],
   "source": [
    "using Molly\n",
    "using StaticArrays\n",
    "using Unitful\n",
    "using Bio3DView\n",
    "using Plots\n",
    "using KernelDensity\n",
    "using Measurements\n",
    "using Zygote\n",
    "using LinearAlgebra\n",
    "using Statistics"
   ]
  },
  {
   "cell_type": "markdown",
   "id": "b9fde458",
   "metadata": {},
   "source": [
    "For this exercise you will also need the files `dipeptide_nowater.pdb` and `dipeptide_equil.pdb`, which can be found alongside this notebook, in the current directory.\n",
    "\n",
    "We will be running short simulations of alanine dipeptide, which is the amino acid alanine with an acetyl group on the N-terminus and a N-methylamide group on the C-terminus. The simulations are kept short so they run fairly quickly on any computer. We can get a quick look at `dipeptide_nowater.pdb`, which contains just alanine dipeptide, with Bio3DView.jl."
   ]
  },
  {
   "cell_type": "code",
   "execution_count": null,
   "id": "b6e8f8b0",
   "metadata": {},
   "outputs": [],
   "source": [
    "viewfile(\"dipeptide_nowater.pdb\", style=Style(\"stick\"))"
   ]
  },
  {
   "cell_type": "markdown",
   "id": "fcdb1f0b",
   "metadata": {},
   "source": [
    "`dipeptide_equil.pdb` contains alanine dipeptide and water in a periodic simulation box equilibrated to 300 K."
   ]
  },
  {
   "cell_type": "code",
   "execution_count": null,
   "id": "e34bffaa",
   "metadata": {},
   "outputs": [],
   "source": [
    "viewfile(\"dipeptide_equil.pdb\", style=Style(\"sphere\", Dict(\"scale\"=> \"0.5\")))"
   ]
  },
  {
   "cell_type": "markdown",
   "id": "5029e6e1",
   "metadata": {},
   "source": [
    "### Exercise 1\n",
    "\n",
    "- Open the above files in PyMOL and familiarise yourself with changing the representation (lines, sticks, spheres etc.) and showing the periodic simulation box (show cell).\n",
    "- Why is it necessary to use this much water? What would happen if the simulation box tightly surrounded the alanine dipeptide molecule?\n",
    "\n",
    "---"
   ]
  },
  {
   "cell_type": "markdown",
   "id": "c1e67380",
   "metadata": {},
   "source": [
    "We are going to simulate the motion of alanine dipeptide with a molecular mechanics force field. First we read in the AMBER99SB-ILDN force field parameters."
   ]
  },
  {
   "cell_type": "code",
   "execution_count": null,
   "id": "87172c2c",
   "metadata": {},
   "outputs": [],
   "source": [
    "ff_dir = joinpath(dirname(pathof(Molly)), \"..\", \"data\", \"force_fields\")\n",
    "ff = MolecularForceField(joinpath.(ff_dir, [\"ff99SBildn.xml\", \"tip3p_standard.xml\"])...)"
   ]
  },
  {
   "cell_type": "markdown",
   "id": "28c780db",
   "metadata": {},
   "source": [
    "Now we set up a `System` using the force field and the structure file. `rename_terminal_res` is a technicality related to residue numbering which is required in this case."
   ]
  },
  {
   "cell_type": "code",
   "execution_count": null,
   "id": "ef31ae28",
   "metadata": {},
   "outputs": [],
   "source": [
    "sys = System(\"dipeptide_nowater.pdb\", ff; rename_terminal_res=false)"
   ]
  },
  {
   "cell_type": "markdown",
   "id": "5333c892",
   "metadata": {},
   "source": [
    "We can calculate the potential energy of this conformation of alanine dipeptide (in a vacuum)."
   ]
  },
  {
   "cell_type": "code",
   "execution_count": null,
   "id": "51879d33",
   "metadata": {},
   "outputs": [],
   "source": [
    "neighbors = find_neighbors(sys)\n",
    "potential_energy(sys, neighbors)"
   ]
  },
  {
   "cell_type": "markdown",
   "id": "15e0e835",
   "metadata": {},
   "source": [
    "Notice the type of the potential energy."
   ]
  },
  {
   "cell_type": "code",
   "execution_count": null,
   "id": "77c1555e",
   "metadata": {},
   "outputs": [],
   "source": [
    "typeof(potential_energy(sys, neighbors))"
   ]
  },
  {
   "cell_type": "markdown",
   "id": "52e9e421",
   "metadata": {},
   "source": [
    "This is a \"unitful\" quantity, provided by Unitful.jl. Unitful quantities can be created as follows."
   ]
  },
  {
   "cell_type": "code",
   "execution_count": null,
   "id": "047b25f3",
   "metadata": {},
   "outputs": [],
   "source": [
    "5.0u\"kg\"\n",
    "2.0u\"m\" + 3.0u\"m\"\n",
    "[1.0, 2.0]u\"s\" .* 2"
   ]
  },
  {
   "cell_type": "markdown",
   "id": "d23c2267",
   "metadata": {},
   "source": [
    "### Exercise 2\n",
    "\n",
    "- Add 1 m to 1 nm.\n",
    "- Try and add 1 m to 1 kg. What happens?"
   ]
  },
  {
   "cell_type": "code",
   "execution_count": null,
   "id": "afc14284-e1bf-499d-a453-fad87e01bab7",
   "metadata": {},
   "outputs": [],
   "source": []
  },
  {
   "cell_type": "markdown",
   "id": "b9b52619-2f13-4b1c-ae0e-36a4fb2f6fca",
   "metadata": {},
   "source": [
    "It will also be useful to understand static arrays, which are used to store quantities like 3D coordinates for speed."
   ]
  },
  {
   "cell_type": "code",
   "execution_count": null,
   "id": "aaaa8f16-4e99-4bb4-b62b-b9da35d862ad",
   "metadata": {},
   "outputs": [],
   "source": [
    "typeof(sys.coords[1])"
   ]
  },
  {
   "cell_type": "code",
   "execution_count": null,
   "id": "eddff9dd-4425-4b2a-9092-edbb19a1c049",
   "metadata": {},
   "outputs": [],
   "source": [
    "SVector(1.0, 2.0, 3.0)"
   ]
  },
  {
   "cell_type": "code",
   "execution_count": null,
   "id": "5a3eda6a-6b85-4799-9f60-22dc7fd3c0ed",
   "metadata": {},
   "outputs": [],
   "source": [
    "SVector(1.0, 2.0, 3.0)u\"m\" .+ SVector(4.0, 5.0, 6.0)u\"nm\""
   ]
  },
  {
   "cell_type": "markdown",
   "id": "f88606e9",
   "metadata": {
    "tags": []
   },
   "source": [
    "### Exercise 3\n",
    "\n",
    "- Create a `SteepestDescentMinimizer` and run an energy minimization on the system.\n",
    "- Calculate the new potential energy. How has it changed?"
   ]
  },
  {
   "cell_type": "code",
   "execution_count": null,
   "id": "853443d8-d06e-4906-8856-5e14413beb40",
   "metadata": {},
   "outputs": [],
   "source": []
  },
  {
   "cell_type": "markdown",
   "id": "ea2cfdb8",
   "metadata": {},
   "source": [
    "We can apply random velocities drawn from the Maxwell-Boltzmann distribution to the atoms."
   ]
  },
  {
   "cell_type": "code",
   "execution_count": null,
   "id": "dc387afb",
   "metadata": {},
   "outputs": [],
   "source": [
    "random_velocities!(sys, 300.0u\"K\")\n",
    "temperature(sys)"
   ]
  },
  {
   "cell_type": "markdown",
   "id": "8d91dc1a",
   "metadata": {},
   "source": [
    "### Exercise 4\n",
    "\n",
    "- Apply random velocities to the system 1000 times and record the temperature.\n",
    "- What is the mean and standard deviation of the temperature? Why is the temperature not always the same?"
   ]
  },
  {
   "cell_type": "code",
   "execution_count": null,
   "id": "1f2d5d22-fbad-44d6-861e-95d007b63ae0",
   "metadata": {},
   "outputs": [],
   "source": []
  },
  {
   "cell_type": "markdown",
   "id": "88db5b38",
   "metadata": {},
   "source": [
    "Now we can apply loggers to the system to record properties of interest throughout the simulation."
   ]
  },
  {
   "cell_type": "code",
   "execution_count": null,
   "id": "22009f3d",
   "metadata": {},
   "outputs": [],
   "source": [
    "sys = System(sys, loggers=(\n",
    "    energy=TotalEnergyLogger(100),\n",
    "    temperature=TemperatureLogger(100),\n",
    "    writer=StructureWriter(100, \"trajectory.pdb\"),\n",
    "))"
   ]
  },
  {
   "cell_type": "markdown",
   "id": "478344ec",
   "metadata": {},
   "source": [
    "We can simulate for 50 ps with the velocity Verlet integrator."
   ]
  },
  {
   "cell_type": "code",
   "execution_count": null,
   "id": "00dcc7a1",
   "metadata": {},
   "outputs": [],
   "source": [
    "simulator_vv = VelocityVerlet(dt=0.0005u\"ps\")\n",
    "simulate!(sys, simulator_vv, 100_000)"
   ]
  },
  {
   "cell_type": "markdown",
   "id": "045d566d",
   "metadata": {},
   "source": [
    "### Exercise 5\n",
    "\n",
    "- The stored values of a logger can be accessed with `values(sys.loggers.energy))` or similar. Plot the total energy and the temperature over the simulation. What do you see?\n",
    "- Open `trajectory.pdb` in PyMOL, align the states and watch the simulation."
   ]
  },
  {
   "cell_type": "code",
   "execution_count": null,
   "id": "47d0ed7e",
   "metadata": {},
   "outputs": [],
   "source": []
  },
  {
   "cell_type": "markdown",
   "id": "48ae5b2f",
   "metadata": {},
   "source": [
    "We can also simulate in the NVT ensemble using a Langevin integrator."
   ]
  },
  {
   "cell_type": "code",
   "execution_count": null,
   "id": "01275e06",
   "metadata": {},
   "outputs": [],
   "source": [
    "simulator_lang = Langevin(dt=0.0005u\"ps\", temperature=300.0u\"K\", friction=1.0u\"ps^-1\")\n",
    "\n",
    "# Reset the system\n",
    "sys = System(\n",
    "    \"dipeptide_nowater.pdb\",\n",
    "    ff;\n",
    "    rename_terminal_res=false,\n",
    "    loggers=(\n",
    "        energy=TotalEnergyLogger(100),\n",
    "        temperature=TemperatureLogger(100),\n",
    "        writer=StructureWriter(100, \"trajectory.pdb\"),\n",
    "    ),\n",
    ")\n",
    "random_velocities!(sys, 300.0u\"K\")\n",
    "\n",
    "isfile(\"trajectory.pdb\") && rm(\"trajectory.pdb\")\n",
    "simulate!(sys, simulator_lang, 100_000)"
   ]
  },
  {
   "cell_type": "markdown",
   "id": "5cffc832",
   "metadata": {},
   "source": [
    "### Exercise 6\n",
    "\n",
    "- Plot the total energy and the temperature over the simulation. How does this compare the the previous simulation in the NVE ensemble?"
   ]
  },
  {
   "cell_type": "code",
   "execution_count": null,
   "id": "8f2ff745",
   "metadata": {},
   "outputs": [],
   "source": []
  },
  {
   "cell_type": "markdown",
   "id": "4bd721d6",
   "metadata": {},
   "source": [
    "The torsion angle between four atoms is an important conformational measure for peptides and proteins. We can calculate the ϕ torsion angle as follows."
   ]
  },
  {
   "cell_type": "code",
   "execution_count": null,
   "id": "410cc638",
   "metadata": {},
   "outputs": [],
   "source": [
    "rad2deg(torsion_angle(sys.coords[2], sys.coords[7], sys.coords[9], sys.coords[15], sys.boundary))"
   ]
  },
  {
   "cell_type": "markdown",
   "id": "f976d090",
   "metadata": {},
   "source": [
    "To log the ϕ and ψ torsion angles over a simulation, we can use a `GeneralObservableLogger`.\n",
    "\n",
    "For this simulation we are also going to use the GBNeck2 implicit solvent model to mimic simulation in water."
   ]
  },
  {
   "cell_type": "code",
   "execution_count": null,
   "id": "00f52405",
   "metadata": {},
   "outputs": [],
   "source": [
    "function phi_wrapper(sys, args...; kwargs...)\n",
    "    rad2deg(torsion_angle(sys.coords[2], sys.coords[7], sys.coords[9],\n",
    "                          sys.coords[15], sys.boundary))\n",
    "end\n",
    "\n",
    "function psi_wrapper(sys, args...; kwargs...)\n",
    "    rad2deg(torsion_angle(sys.coords[7], sys.coords[9], sys.coords[15],\n",
    "                          sys.coords[17], sys.boundary))\n",
    "end\n",
    "\n",
    "sys = System(\n",
    "    \"dipeptide_nowater.pdb\",\n",
    "    ff;\n",
    "    rename_terminal_res=false,\n",
    "    loggers=(\n",
    "        writer=StructureWriter(100, \"trajectory.pdb\"),\n",
    "        phi=GeneralObservableLogger(phi_wrapper, Float64, 100),\n",
    "        psi=GeneralObservableLogger(psi_wrapper, Float64, 100),\n",
    "    ),\n",
    "    implicit_solvent=\"gbn2\",\n",
    ")\n",
    "random_velocities!(sys, 300.0u\"K\")"
   ]
  },
  {
   "cell_type": "code",
   "execution_count": null,
   "id": "d01ba8a7",
   "metadata": {},
   "outputs": [],
   "source": [
    "isfile(\"trajectory.pdb\") && rm(\"trajectory.pdb\")\n",
    "simulate!(sys, simulator_lang, 200_000) # This will take a little while to run"
   ]
  },
  {
   "cell_type": "markdown",
   "id": "aa4a3f2f",
   "metadata": {},
   "source": [
    "### Exercise 7\n",
    "\n",
    "- Plot a scatter plot of the recorded torsion angles with ϕ on the x-axis and ψ on the y-axis. This is a Ramachandran plot.\n",
    "- Look up the regions of the Ramachandran plot. Which secondary structure is being sampled by the system? What happens if you repeat the simulation?\n",
    "- Set up and run a similar situation but in vacuum rather than implicit solvent. Compare the Ramachandran plots."
   ]
  },
  {
   "cell_type": "code",
   "execution_count": null,
   "id": "f9b7e8e5",
   "metadata": {},
   "outputs": [],
   "source": []
  },
  {
   "cell_type": "markdown",
   "id": "5bb25281-a668-408b-8323-e7e4fd56aeab",
   "metadata": {},
   "source": [
    "Now we are going to run a simulation in explicit solvent and look at how the O-H distances in water change. We are using a molecular mechanics force field with a harmonic potential for bonds, so we should expect to see that reflected in the dynamics.\n",
    "\n",
    "For now we just log one of the O-H distances in the system and run a short 100 fs simulation."
   ]
  },
  {
   "cell_type": "code",
   "execution_count": null,
   "id": "1cf2cd85",
   "metadata": {},
   "outputs": [],
   "source": [
    "function OH_distance_wrapper(sys, args...; kwargs...)\n",
    "    ustrip(norm(vector(sys.coords[23], sys.coords[24], sys.boundary)))\n",
    "end\n",
    "\n",
    "sys = System(\n",
    "    \"dipeptide_equil.pdb\",\n",
    "    ff;\n",
    "    rename_terminal_res=false,\n",
    "    loggers=(\n",
    "        distance=GeneralObservableLogger(OH_distance_wrapper, Float64, 1),\n",
    "        writer=StructureWriter(1, \"trajectory.pdb\"),\n",
    "    ),\n",
    ")\n",
    "random_velocities!(sys, 300.0u\"K\")"
   ]
  },
  {
   "cell_type": "code",
   "execution_count": null,
   "id": "83672e35",
   "metadata": {},
   "outputs": [],
   "source": [
    "isfile(\"trajectory.pdb\") && rm(\"trajectory.pdb\")\n",
    "simulate!(sys, simulator_lang, 200)"
   ]
  },
  {
   "cell_type": "markdown",
   "id": "0f148e42-fbc6-48db-ad08-55fb3b0decf7",
   "metadata": {},
   "source": [
    "### Exercise 8\n",
    "\n",
    "- Look at the trajectory in PyMOL. What happens when an atom crosses the bounding box?\n",
    "- Plot the logged O-H distance over the simulation. Explain what you see.\n",
    "- Estimate roughly from the plot the time per period of oscillation of the bond.\n",
    "- Using the formula for the frequency of a spring, `f = 1/(2π)×√(k/m)`, estimate the expected time per period based on the utilised `k` of 462750.4 kJ mol^-1 nm^-2 and `m` of 1 g/mol. Does it match the observed value?"
   ]
  },
  {
   "cell_type": "code",
   "execution_count": null,
   "id": "2ef2beeb",
   "metadata": {},
   "outputs": [],
   "source": []
  },
  {
   "cell_type": "markdown",
   "id": "c958fb6f-e1e6-49a5-a53d-c02f50237a25",
   "metadata": {},
   "source": [
    "Now, we can set up the same system but with deuterated water, where the hydrogens have a mass of 2 amu."
   ]
  },
  {
   "cell_type": "code",
   "execution_count": null,
   "id": "ba186ba2",
   "metadata": {},
   "outputs": [],
   "source": [
    "sys = System(\n",
    "    \"dipeptide_equil.pdb\",\n",
    "    ff;\n",
    "    rename_terminal_res=false,\n",
    "    loggers=(\n",
    "        distance=GeneralObservableLogger(OH_distance_wrapper, Float64, 1),\n",
    "        writer=StructureWriter(1, \"trajectory.pdb\"),\n",
    "    ),\n",
    ")\n",
    "\n",
    "deut_atoms = map(sys.atoms, sys.atoms_data) do at, at_data\n",
    "    if at_data.atom_type == \"tip3p-H\"\n",
    "        new_mass = 2.0u\"g/mol\"\n",
    "    else\n",
    "        new_mass = at.mass\n",
    "    end\n",
    "    Atom(index=at.index, charge=at.charge, mass=new_mass, σ=at.σ, ϵ=at.ϵ)\n",
    "end\n",
    "\n",
    "sys = System(sys; atoms=deut_atoms)\n",
    "random_velocities!(sys, 300.0u\"K\")"
   ]
  },
  {
   "cell_type": "code",
   "execution_count": null,
   "id": "59c71239",
   "metadata": {},
   "outputs": [],
   "source": [
    "isfile(\"trajectory.pdb\") && rm(\"trajectory.pdb\")\n",
    "simulate!(sys, simulator_lang, 200)"
   ]
  },
  {
   "cell_type": "markdown",
   "id": "541a653e-3a45-4ae2-93e4-9fe85388ccf6",
   "metadata": {},
   "source": [
    "### Exercise 9\n",
    "\n",
    "- Plot the logged O-H distances and compare them to the previous exercise.\n",
    "- Again estimate roughly from the plot the time per period of oscillation of the bond. Compare this to the expected value from the formula when `m` is 2 g/mol."
   ]
  },
  {
   "cell_type": "code",
   "execution_count": null,
   "id": "45232d82",
   "metadata": {},
   "outputs": [],
   "source": []
  },
  {
   "cell_type": "markdown",
   "id": "66378014-9ea2-4de1-a0e5-d07aeb3b08a7",
   "metadata": {},
   "source": [
    "Now we are going to look at how the water is distributed around one of the carbonyl oxygens in alanine dipeptide during the simulation. The atom indices of the water oxygens are:"
   ]
  },
  {
   "cell_type": "code",
   "execution_count": null,
   "id": "55344a52",
   "metadata": {},
   "outputs": [],
   "source": [
    "const water_O_inds = findall(ad -> ad.atom_type == \"tip3p-O\", sys.atoms_data)"
   ]
  },
  {
   "cell_type": "markdown",
   "id": "a7e69279-547e-47ff-8a52-975a6d28f66b",
   "metadata": {},
   "source": [
    "### Exercise 10\n",
    "\n",
    "- Write a function `Owat_distance_wrapper` with the same arguments as the wrapper functions above. It should return a `Vector{Float64}` corresponding to the distances in nm from the carbonyl oxygen (index 6) to each of the water oxygens."
   ]
  },
  {
   "cell_type": "code",
   "execution_count": null,
   "id": "564ac0cd-cc4e-43d8-87c7-0ff72bfede8a",
   "metadata": {},
   "outputs": [],
   "source": []
  },
  {
   "cell_type": "markdown",
   "id": "353fdb5c-05bd-41b8-86d0-6c17a6c678f2",
   "metadata": {},
   "source": [
    "We can run a simulation and log these distances."
   ]
  },
  {
   "cell_type": "code",
   "execution_count": null,
   "id": "fa354453-3565-419c-9033-d0c95af22a48",
   "metadata": {},
   "outputs": [],
   "source": [
    "sys = System(\n",
    "    \"dipeptide_equil.pdb\",\n",
    "    ff;\n",
    "    rename_terminal_res=false,\n",
    "    loggers=(\n",
    "        distance=GeneralObservableLogger(Owat_distance_wrapper, Vector{Float64}, 10),\n",
    "        writer=StructureWriter(100, \"trajectory.pdb\"),\n",
    "    ),\n",
    ")\n",
    "random_velocities!(sys, 300.0u\"K\")\n",
    "\n",
    "isfile(\"trajectory.pdb\") && rm(\"trajectory.pdb\")\n",
    "simulate!(sys, simulator_lang, 10_000) # This will take a little while to run"
   ]
  },
  {
   "cell_type": "markdown",
   "id": "c6d0c8b3-0d88-40df-bbb0-77ef12f3ce84",
   "metadata": {},
   "source": [
    "Now we can use KernelDensity.jl to view the radial distribution function of water molecules around this atom over the simulation."
   ]
  },
  {
   "cell_type": "code",
   "execution_count": null,
   "id": "0789cf31",
   "metadata": {},
   "outputs": [],
   "source": [
    "distances_flat = vcat(values(sys.loggers.distance)...)\n",
    "kd = kde(distances_flat; npoints=200)\n",
    "\n",
    "plot(\n",
    "    collect(kd.x) .* 10,\n",
    "    kd.density ./ (kd.x .^ 2), # Off by a normalisation factor\n",
    "    xlabel=\"Distance / Å\",\n",
    "    ylabel=\"Density\",\n",
    "    xlims=(0, 8),\n",
    "    ylims=(0, 0.5),\n",
    ")"
   ]
  },
  {
   "cell_type": "markdown",
   "id": "378a078d-92f0-4daa-a289-59c606592ef1",
   "metadata": {},
   "source": [
    "### Exercise 11\n",
    "\n",
    "- What does this plot tell you?\n",
    "\n",
    "---"
   ]
  },
  {
   "cell_type": "markdown",
   "id": "fad0290c-aa57-4aa0-b54e-65cae04137fa",
   "metadata": {},
   "source": [
    "The double exponential potential is a proposed replacement for the Lennard-Jones potential. It has a physically-motivated exponential repulsion, additional flexibility due to global parameters $\\alpha$ and $\\beta$, and the energy is finite at zero which is useful for some applications. You can read more about it in [Horton et al. 2023](https://doi.org/10.1039/d3dd00070b). It is defined as:\n",
    "\n",
    "$$\n",
    "V(r_{ij}) = \\varepsilon_{ij} \\left[ \\frac{\\beta e^\\alpha}{\\alpha - \\beta} \\exp \\left( -\\alpha \\frac{r_{ij}}{r_{m,ij}} \\right) - \\frac{\\alpha e^\\beta}{\\alpha - \\beta} \\exp \\left( -\\beta \\frac{r_{ij}}{r_{m,ij}} \\right) \\right]\n",
    "$$"
   ]
  },
  {
   "cell_type": "markdown",
   "id": "f3f537d8-dcf9-433d-ae74-b40eaf40dc10",
   "metadata": {},
   "source": [
    "### Exercise 12\n",
    "\n",
    "- Define a [custom interaction](https://juliamolsim.github.io/Molly.jl/stable/docs/#Pairwise-interactions) `DoubleExponential` and associated `potential_energy` and `force` functions for the double exponential potential. The struct should take in $\\alpha$ and $\\beta$ as arguments, for testing you can use `α = 16.766` and `β = 4.427`. You can use `sqrt(atom_i.ϵ * atom_j.ϵ)` for $\\varepsilon_{ij}$ and `2^(1/6) * (atom_i.σ + atom_j.σ) / 2` for $r_{m,ij}$. Derive the force function manually, or using Wolfram Alpha, from the relation $F(r_{ij}) = -\\frac{\\mathrm{d} V(r_{ij})}{\\mathrm{d} r_{ij}}$. Also define `Molly.use_neighbors(inter::DoubleExponential) = true`."
   ]
  },
  {
   "cell_type": "code",
   "execution_count": null,
   "id": "84f5f3d1",
   "metadata": {},
   "outputs": [],
   "source": []
  },
  {
   "cell_type": "markdown",
   "id": "0514c88d-f5b9-4061-a1a0-be93d04f486b",
   "metadata": {},
   "source": [
    "Now we can write a function that computes the potential energy for a given interaction and distance."
   ]
  },
  {
   "cell_type": "code",
   "execution_count": null,
   "id": "4b309045",
   "metadata": {},
   "outputs": [],
   "source": [
    "function pe(inter, dist)\n",
    "    a1 = Atom(σ=0.3u\"nm\", ϵ=0.5u\"kJ * mol^-1\")\n",
    "    a2 = Atom(σ=0.3u\"nm\", ϵ=0.5u\"kJ * mol^-1\")\n",
    "    boundary = CubicBoundary(10.0u\"nm\")\n",
    "    c1 = SVector(1.0, 1.0, 1.0)u\"nm\"\n",
    "    c2 = SVector(dist + 1.0u\"nm\", 1.0u\"nm\", 1.0u\"nm\")\n",
    "    vec = vector(c1, c2, boundary)\n",
    "    return potential_energy(inter, vec, c1, c2, a1, a2, boundary)\n",
    "end"
   ]
  },
  {
   "cell_type": "markdown",
   "id": "e6ac29da-a572-4dd5-b3b2-978f105b7e9e",
   "metadata": {},
   "source": [
    "### Exercise 13\n",
    "\n",
    "- Use the `pe` function to get two arrays of potential energy for the distances `(0.2:0.001:0.6)u\"nm\"`: one with `LennardJones` and one with `DoubleExponential` where `α = 16.766` and `β = 4.427`. Plot these to compare them.\n",
    "- Plot variants of the double exponential potential for `(α, β)` in `((10.0, 3.0), (20.0, 3.0), (10.0, 6.0), (20.0, 6.0))`. What effect on the shape of the potential does changing $\\alpha$ and $\\beta$ have?"
   ]
  },
  {
   "cell_type": "code",
   "execution_count": null,
   "id": "82c5559c",
   "metadata": {},
   "outputs": [],
   "source": []
  },
  {
   "cell_type": "markdown",
   "id": "d120ca6d-c38f-49e3-9f38-b16b681762e8",
   "metadata": {},
   "source": [
    "We can run a simulation with our custom potential."
   ]
  },
  {
   "cell_type": "code",
   "execution_count": null,
   "id": "a1c3090e",
   "metadata": {},
   "outputs": [],
   "source": [
    "sys = System(\n",
    "    \"dipeptide_equil.pdb\",\n",
    "    ff;\n",
    "    rename_terminal_res=false,\n",
    "    loggers=(\n",
    "        writer=StructureWriter(10, \"trajectory.pdb\"),\n",
    "    ),\n",
    ")\n",
    "random_velocities!(sys, 300.0u\"K\")\n",
    "\n",
    "α, β = 16.766, 4.427\n",
    "dexp = DoubleExponential(α, β)\n",
    "\n",
    "sys = System(\n",
    "    sys;\n",
    "    # Replace sys.pairwise_inters[1] (the Lennard-Jones interaction) and keep\n",
    "    #   sys.pairwise_inters[2] (the Coulomb interaction)\n",
    "    pairwise_inters=(dexp, sys.pairwise_inters[2]),\n",
    ")\n",
    "\n",
    "isfile(\"trajectory.pdb\") && rm(\"trajectory.pdb\")\n",
    "simulate!(sys, simulator_lang, 1000)"
   ]
  },
  {
   "cell_type": "markdown",
   "id": "dd192e40-79e8-4a7b-afa0-1cc9d20d5f4f",
   "metadata": {},
   "source": [
    "### Exercise 14\n",
    "\n",
    "- Change $\\alpha$ and $\\beta$ to each of the values in the last exercise, run the simulation and look at the trajectory in PyMOL. What happens in each case? Why?\n",
    "\n",
    "---"
   ]
  },
  {
   "cell_type": "markdown",
   "id": "5a58f754-f1b3-49b7-a41e-8340a21b632d",
   "metadata": {},
   "source": [
    "Measurements.jl can be used to propagate uncertainty due to errors. Here we add uncertainty to the system coordinates and velocities and calculate the total energy."
   ]
  },
  {
   "cell_type": "code",
   "execution_count": null,
   "id": "4a4b46f6",
   "metadata": {},
   "outputs": [],
   "source": [
    "sys = System(\n",
    "    \"dipeptide_nowater.pdb\",\n",
    "    ff;\n",
    "    rename_terminal_res=false,\n",
    ")\n",
    "random_velocities!(sys, 300.0u\"K\")\n",
    "neighbors = find_neighbors(sys)\n",
    "\n",
    "coords_err = [c .± (abs(randn()) / 100)u\"nm\"         for c in sys.coords    ]\n",
    "vels_err   = [v .± (abs(randn()) / 100)u\"nm * ps^-1\" for v in sys.velocities]\n",
    "sys = System(sys; coords=coords_err, velocities=vels_err)\n",
    "\n",
    "total_energy(sys, neighbors)"
   ]
  },
  {
   "cell_type": "markdown",
   "id": "d36980c2-f031-46d0-90fb-b3c7d886097b",
   "metadata": {},
   "source": [
    "### Exercise 15\n",
    "\n",
    "- Which of the kinetic energy and the potential energy contributes more to the uncertainty in the total energy? Why?\n",
    "- Calculate the temperature of the system and the forces on the atoms. Comment on the level of uncertainty."
   ]
  },
  {
   "cell_type": "code",
   "execution_count": null,
   "id": "0f227ba3",
   "metadata": {},
   "outputs": [],
   "source": []
  },
  {
   "cell_type": "markdown",
   "id": "9d4b6b75-72cb-4626-8178-84f1e5000261",
   "metadata": {},
   "source": [
    "### Additional exercises\n",
    "\n",
    "- How does the Ramachandran plot of alanine dipeptide change with simulation temperature?\n",
    "- The observed Ramachandran plot will change between short simulations due to poor sampling. How long does it take for this property to converge, such that any simulation of that length gives a similar Ramachandran plot?\n",
    "- Run a simulation with the `MonteCarloBarostat` to keep the pressure constant at 1 bar. Record the box size over the simulation. How and why does the box size change?\n",
    "- Remove the Lennard-Jones/double exponential potential from the simulation and see what happens.\n",
    "- Which of the thermostats available in Molly equilibrates the alanine dipeptide simulation to the desired temperature the fastest? Why?\n",
    "- Using automatic differentiation with Zygote.jl, show that the force arising from the double exponential potential satisfies $F(r_{ij}) = -\\frac{\\mathrm{d} V(r_{ij})}{\\mathrm{d} r_{ij}}$. How accurate is the automatic differentiation? How does the speed of computing the force this way compare to computing it directly? What are other approaches to calculating the force from the potential energy?"
   ]
  },
  {
   "cell_type": "code",
   "execution_count": null,
   "id": "7097733c-d9e0-49a7-ad48-e4321975af4d",
   "metadata": {},
   "outputs": [],
   "source": []
  }
 ],
 "metadata": {
  "kernelspec": {
   "display_name": "Julia 1.9.2",
   "language": "julia",
   "name": "julia-1.9"
  },
  "language_info": {
   "file_extension": ".jl",
   "mimetype": "application/julia",
   "name": "julia",
   "version": "1.9.2"
  }
 },
 "nbformat": 4,
 "nbformat_minor": 5
}
